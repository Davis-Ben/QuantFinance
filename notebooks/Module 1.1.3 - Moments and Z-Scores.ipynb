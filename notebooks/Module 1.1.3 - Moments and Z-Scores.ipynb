{
 "cells": [
  {
   "cell_type": "markdown",
   "metadata": {},
   "source": [
    "# Introduction to Quantitative Finance\n",
    "\n",
    "Copyright (c) 2019 Python Charmers Pty Ltd, Australia, <https://pythoncharmers.com>. All rights reserved.\n",
    "\n",
    "<img src=\"img/python_charmers_logo.png\" width=\"300\" alt=\"Python Charmers Logo\">\n",
    "\n",
    "Published under the Creative Commons Attribution-NonCommercial 4.0 International (CC BY-NC 4.0) license. See `LICENSE.md` for details.\n",
    "\n",
    "Sponsored by Tibra Global Services, <https://tibra.com>\n",
    "\n",
    "<img src=\"img/tibra_logo.png\" width=\"300\" alt=\"Tibra Logo\">\n",
    "\n",
    "\n",
    "## Module 1.1: Distributions and Random Processes\n",
    "\n",
    "### 1.1.3: Moments\n",
    "\n",
    "Moments describe distributions. We'll focus on the normal (and normal-ish) distributions for now, but will look at other distributions later.\n",
    "\n",
    "A normal distribution is fully described by the first two moments, which are the mean and the variance. Reviewing the help for the `stats.norm` function, we can see these are the only two parameters we can input (see the docstring of the function)."
   ]
  },
  {
   "cell_type": "code",
   "execution_count": 12,
   "metadata": {},
   "outputs": [],
   "source": [
    "%run setup.ipy"
   ]
  },
  {
   "cell_type": "code",
   "execution_count": 13,
   "metadata": {
    "scrolled": true
   },
   "outputs": [
    {
     "data": {
      "text/plain": [
       "RendererRegistry.enable('notebook')"
      ]
     },
     "execution_count": 13,
     "metadata": {},
     "output_type": "execute_result"
    }
   ],
   "source": [
    "alt.renderers.enable('notebook')"
   ]
  },
  {
   "cell_type": "markdown",
   "metadata": {},
   "source": [
    "<div class=\"alert alert-success\">\n",
    "    Note: it's worth opening up setup.ipy and seeing what's in there. This file will be run at the start of most of our notebooks.\n",
    "</div>"
   ]
  },
  {
   "cell_type": "code",
   "execution_count": 14,
   "metadata": {},
   "outputs": [],
   "source": [
    "stats.norm?"
   ]
  },
  {
   "cell_type": "markdown",
   "metadata": {},
   "source": [
    "As noted in that description, the first moment, the mean, is referred to as the location. It specifies where the normal distribution is centred."
   ]
  },
  {
   "cell_type": "code",
   "execution_count": 15,
   "metadata": {},
   "outputs": [
    {
     "data": {
      "application/javascript": [
       "const spec = {\"layer\": [{\"mark\": \"bar\", \"data\": {\"url\": \"altair-data-38dbf2da29619b5fc5ecb3b9cd0fd5da.json\", \"format\": {\"type\": \"json\"}}, \"encoding\": {\"color\": {\"value\": \"red\"}, \"y\": {\"aggregate\": \"count\", \"type\": \"quantitative\"}, \"x\": {\"bin\": {\"maxbins\": 100}, \"field\": \"value\", \"type\": \"quantitative\"}}}, {\"mark\": \"bar\", \"data\": {\"url\": \"altair-data-fce74cadd57e87bced225ac3ce14e8e9.json\", \"format\": {\"type\": \"json\"}}, \"encoding\": {\"color\": {\"value\": \"blue\"}, \"y\": {\"aggregate\": \"count\", \"type\": \"quantitative\"}, \"x\": {\"bin\": {\"maxbins\": 100}, \"field\": \"value\", \"type\": \"quantitative\"}}}], \"config\": {\"view\": {\"width\": 400, \"height\": 300}, \"mark\": {\"tooltip\": null}}, \"$schema\": \"https://vega.github.io/schema/vega-lite/v3.4.0.json\"};\n",
       "const opt = {};\n",
       "const type = \"vega-lite\";\n",
       "const id = \"7fbff2ad-1dee-49d6-801b-025963008921\";\n",
       "\n",
       "const output_area = this;\n",
       "\n",
       "require([\"nbextensions/jupyter-vega/index\"], function(vega) {\n",
       "  const target = document.createElement(\"div\");\n",
       "  target.id = id;\n",
       "  target.className = \"vega-embed\";\n",
       "\n",
       "  const style = document.createElement(\"style\");\n",
       "  style.textContent = [\n",
       "    \".vega-embed .error p {\",\n",
       "    \"  color: firebrick;\",\n",
       "    \"  font-size: 14px;\",\n",
       "    \"}\",\n",
       "  ].join(\"\\\\n\");\n",
       "\n",
       "  // element is a jQuery wrapped DOM element inside the output area\n",
       "  // see http://ipython.readthedocs.io/en/stable/api/generated/\\\n",
       "  // IPython.display.html#IPython.display.Javascript.__init__\n",
       "  element[0].appendChild(target);\n",
       "  element[0].appendChild(style);\n",
       "\n",
       "  vega.render(\"#\" + id, spec, type, opt, output_area);\n",
       "}, function (err) {\n",
       "  if (err.requireType !== \"scripterror\") {\n",
       "    throw(err);\n",
       "  }\n",
       "});\n"
      ],
      "text/plain": [
       "<vega.vegalite.VegaLite at 0x7fdf6fedf850>"
      ]
     },
     "metadata": {
      "jupyter-vega": "#7fbff2ad-1dee-49d6-801b-025963008921"
     },
     "output_type": "display_data"
    },
    {
     "data": {
      "text/plain": []
     },
     "execution_count": 15,
     "metadata": {},
     "output_type": "execute_result"
    },
    {
     "data": {
      "image/png": "[encoded data removed]"
     },
     "metadata": {
      "jupyter-vega": "#7fbff2ad-1dee-49d6-801b-025963008921"
     },
     "output_type": "display_data"
    }
   ],
   "source": [
    "def plot_histogram_normal(mean, standard_deviation, color):\n",
    "    distribution = stats.norm(mean, standard_deviation)\n",
    "    normal_values = pd.DataFrame({\"value\": distribution.rvs(10000)})\n",
    "\n",
    "    chart = alt.Chart(normal_values).mark_bar().encode(\n",
    "        alt.X(\"value\", bin=alt.Bin(maxbins=100)),\n",
    "        y='count()',\n",
    "        color=alt.value(color)\n",
    "    )\n",
    "    return chart\n",
    "\n",
    "chart_1 = plot_histogram_normal(0, 1, \"red\")\n",
    "chart_2 = plot_histogram_normal(3, 1, \"blue\")\n",
    "chart_1 + chart_2"
   ]
  },
  {
   "cell_type": "markdown",
   "metadata": {},
   "source": [
    "The mean is the expected value of the distribution. Given all other things equal, if we chose *n* values randomly from this distribution, the average value (mean) would be equal to the mean of the distribution. This might seem like circular knowledge, but note the values are computed in different ways:"
   ]
  },
  {
   "cell_type": "code",
   "execution_count": 16,
   "metadata": {},
   "outputs": [],
   "source": [
    "actual_mean = 57\n",
    "standard_deviation = random.random() * 10\n",
    "N_TRIALS = 100000\n",
    "\n",
    "distribution = stats.norm(actual_mean, standard_deviation)\n",
    "normal_values = distribution.rvs(N_TRIALS)"
   ]
  },
  {
   "cell_type": "code",
   "execution_count": 17,
   "metadata": {},
   "outputs": [
    {
     "data": {
      "text/plain": [
       "57.00667548385571"
      ]
     },
     "execution_count": 17,
     "metadata": {},
     "output_type": "execute_result"
    }
   ],
   "source": [
    "np.mean(normal_values)"
   ]
  },
  {
   "cell_type": "code",
   "execution_count": 18,
   "metadata": {},
   "outputs": [
    {
     "name": "stdout",
     "output_type": "stream",
     "text": [
      "The actual mean was 57, while the computed mean was 57.007\n",
      "This gives an error of 0.007\n"
     ]
    }
   ],
   "source": [
    "error = np.mean(normal_values) - actual_mean\n",
    "print(\"The actual mean was {actual_mean}, while the computed mean was {computed_mean:.3f}\".format(\n",
    "    actual_mean=actual_mean, computed_mean=np.mean(normal_values)))\n",
    "print(\"This gives an error of {error:.3f}\".format(error=error))"
   ]
  },
  {
   "cell_type": "markdown",
   "metadata": {},
   "source": [
    "Note that the mean is not the median, although in a normal distribution, they are usually about the same (and theoretically they are the same value). The median is not a \"moment\"."
   ]
  },
  {
   "cell_type": "code",
   "execution_count": 19,
   "metadata": {},
   "outputs": [
    {
     "data": {
      "text/plain": [
       "56.99757922193349"
      ]
     },
     "execution_count": 19,
     "metadata": {},
     "output_type": "execute_result"
    }
   ],
   "source": [
    "np.median(normal_values)"
   ]
  },
  {
   "cell_type": "markdown",
   "metadata": {},
   "source": [
    "The second moment of a normal distribution is the variance, also known as the scale factor of the distribution. It is the expected value of the squared difference between a random value and the mean:\n",
    "\n",
    "$V=\\frac{1}{n}\\sum^n_{i=0}(X_i-\\mu)^2$\n",
    "\n",
    "Note that the square in the result makes the unit squared as well. For instance, if our measurements were in metres $m$, the variance would be in metres squared, $m^2$. As a result, it's not directly comparable to the initial value. For instance:"
   ]
  },
  {
   "cell_type": "code",
   "execution_count": 20,
   "metadata": {},
   "outputs": [
    {
     "data": {
      "text/plain": [
       "5.56763884049314"
      ]
     },
     "execution_count": 20,
     "metadata": {},
     "output_type": "execute_result"
    }
   ],
   "source": [
    "V = np.var(normal_values)\n",
    "V"
   ]
  },
  {
   "cell_type": "markdown",
   "metadata": {},
   "source": [
    "We can not directly compare this to our original units, i.e. we can not say the variance is \"about 0.5% of the mean\".\n",
    "Such a statment is meaningless as the units are different. \n",
    "For that reason, we usually use the square root of the variance, known as the standard deviation, which is in the same units as X, and is therefore comparable in such a way:\n",
    "\n",
    "$V=\\sigma^2=\\frac{1}{n}\\sum^n_{i=0}(X_i-\\mu)^2$"
   ]
  },
  {
   "cell_type": "markdown",
   "metadata": {},
   "source": [
    "It is this \"standard deviation\" that is the second input into our `stats.norm` function:"
   ]
  },
  {
   "cell_type": "code",
   "execution_count": 21,
   "metadata": {},
   "outputs": [
    {
     "data": {
      "application/javascript": [
       "const spec = {\"layer\": [{\"mark\": \"bar\", \"data\": {\"url\": \"altair-data-52c22978dce50d2983a2ef637eb63088.json\", \"format\": {\"type\": \"json\"}}, \"encoding\": {\"color\": {\"value\": \"green\"}, \"y\": {\"aggregate\": \"count\", \"type\": \"quantitative\"}, \"x\": {\"bin\": {\"maxbins\": 100}, \"field\": \"value\", \"type\": \"quantitative\"}}}, {\"mark\": \"bar\", \"data\": {\"url\": \"altair-data-aedc575965ac1bf793e334db4c541cae.json\", \"format\": {\"type\": \"json\"}}, \"encoding\": {\"color\": {\"value\": \"orange\"}, \"y\": {\"aggregate\": \"count\", \"type\": \"quantitative\"}, \"x\": {\"bin\": {\"maxbins\": 100}, \"field\": \"value\", \"type\": \"quantitative\"}}}], \"config\": {\"view\": {\"width\": 400, \"height\": 300}, \"mark\": {\"tooltip\": null}}, \"$schema\": \"https://vega.github.io/schema/vega-lite/v3.4.0.json\"};\n",
       "const opt = {};\n",
       "const type = \"vega-lite\";\n",
       "const id = \"64f7ac9c-956c-46a9-b228-c7e5e81f925f\";\n",
       "\n",
       "const output_area = this;\n",
       "\n",
       "require([\"nbextensions/jupyter-vega/index\"], function(vega) {\n",
       "  const target = document.createElement(\"div\");\n",
       "  target.id = id;\n",
       "  target.className = \"vega-embed\";\n",
       "\n",
       "  const style = document.createElement(\"style\");\n",
       "  style.textContent = [\n",
       "    \".vega-embed .error p {\",\n",
       "    \"  color: firebrick;\",\n",
       "    \"  font-size: 14px;\",\n",
       "    \"}\",\n",
       "  ].join(\"\\\\n\");\n",
       "\n",
       "  // element is a jQuery wrapped DOM element inside the output area\n",
       "  // see http://ipython.readthedocs.io/en/stable/api/generated/\\\n",
       "  // IPython.display.html#IPython.display.Javascript.__init__\n",
       "  element[0].appendChild(target);\n",
       "  element[0].appendChild(style);\n",
       "\n",
       "  vega.render(\"#\" + id, spec, type, opt, output_area);\n",
       "}, function (err) {\n",
       "  if (err.requireType !== \"scripterror\") {\n",
       "    throw(err);\n",
       "  }\n",
       "});\n"
      ],
      "text/plain": [
       "<vega.vegalite.VegaLite at 0x7fdf6ff3b850>"
      ]
     },
     "metadata": {
      "jupyter-vega": "#64f7ac9c-956c-46a9-b228-c7e5e81f925f"
     },
     "output_type": "display_data"
    },
    {
     "data": {
      "text/plain": []
     },
     "execution_count": 21,
     "metadata": {},
     "output_type": "execute_result"
    },
    {
     "data": {
      "image/png": "[encoded data removed]"
     },
     "metadata": {
      "jupyter-vega": "#64f7ac9c-956c-46a9-b228-c7e5e81f925f"
     },
     "output_type": "display_data"
    }
   ],
   "source": [
    "chart_3 = plot_histogram_normal(0, 1, \"green\")\n",
    "chart_4 = plot_histogram_normal(6, 2, \"orange\")\n",
    "chart_3 + chart_4"
   ]
  },
  {
   "cell_type": "markdown",
   "metadata": {},
   "source": [
    "The larger standard deviation makes the distribution more spread out, but it is the same shape, simply \"scaled\"."
   ]
  },
  {
   "cell_type": "markdown",
   "metadata": {},
   "source": [
    "### Further Moments\n",
    "\n",
    "There are two further moments in common use. The third sequentially is called the skew.\n",
    "It can be visualised as \"pulling\" the distribution to the left (negative skew) or right (positive skew).\n",
    "\n",
    "A normal distribution is symmetrical, and has a skew of 0. This is why it does not appear in the equation or function calls to generate the normal distribution.\n",
    "\n",
    "The fourth standardised moment is the kurtosis, more commonly seen in financial data than in many other datasets. A higher value indicates \"fatter tails\" than a standard normal distribution. The kurtosis value of a normal distribution is always 3 - we consider this our baseline when interpreting the kurtosis value of other distributions."
   ]
  },
  {
   "cell_type": "code",
   "execution_count": 22,
   "metadata": {},
   "outputs": [
    {
     "data": {
      "text/plain": [
       "<scipy.stats._distn_infrastructure.rv_frozen at 0x7fdf6fe86bd0>"
      ]
     },
     "execution_count": 22,
     "metadata": {},
     "output_type": "execute_result"
    }
   ],
   "source": [
    "stats.skewnorm(4)"
   ]
  },
  {
   "cell_type": "code",
   "execution_count": 23,
   "metadata": {},
   "outputs": [],
   "source": [
    "stats.skewnorm?"
   ]
  },
  {
   "cell_type": "code",
   "execution_count": 24,
   "metadata": {},
   "outputs": [],
   "source": [
    "def plot_histogram_normal_skewed(mean, standard_deviation, skew, color):\n",
    "    distribution = stats.skewnorm(skew, loc=mean, scale=standard_deviation)\n",
    "    normal_values = pd.DataFrame({\"value\": distribution.rvs(10000)})\n",
    "\n",
    "    chart = alt.Chart(normal_values).mark_bar().encode(\n",
    "        alt.X(\"value\", bin=alt.Bin(maxbins=100)),\n",
    "        y='count()',\n",
    "        color=alt.value(color)\n",
    "    )\n",
    "    return chart"
   ]
  },
  {
   "cell_type": "code",
   "execution_count": 25,
   "metadata": {},
   "outputs": [
    {
     "data": {
      "application/javascript": [
       "const spec = {\"data\": {\"url\": \"altair-data-876ca3aa32e8642a1abfe546982e9e03.json\", \"format\": {\"type\": \"json\"}}, \"$schema\": \"https://vega.github.io/schema/vega-lite/v3.4.0.json\", \"encoding\": {\"color\": {\"value\": \"blue\"}, \"y\": {\"aggregate\": \"count\", \"type\": \"quantitative\"}, \"x\": {\"bin\": {\"maxbins\": 100}, \"field\": \"value\", \"type\": \"quantitative\"}}, \"config\": {\"view\": {\"width\": 400, \"height\": 300}, \"mark\": {\"tooltip\": null}}, \"mark\": \"bar\"};\n",
       "const opt = {};\n",
       "const type = \"vega-lite\";\n",
       "const id = \"7cdfcc9c-36ee-411d-8698-f733536da38d\";\n",
       "\n",
       "const output_area = this;\n",
       "\n",
       "require([\"nbextensions/jupyter-vega/index\"], function(vega) {\n",
       "  const target = document.createElement(\"div\");\n",
       "  target.id = id;\n",
       "  target.className = \"vega-embed\";\n",
       "\n",
       "  const style = document.createElement(\"style\");\n",
       "  style.textContent = [\n",
       "    \".vega-embed .error p {\",\n",
       "    \"  color: firebrick;\",\n",
       "    \"  font-size: 14px;\",\n",
       "    \"}\",\n",
       "  ].join(\"\\\\n\");\n",
       "\n",
       "  // element is a jQuery wrapped DOM element inside the output area\n",
       "  // see http://ipython.readthedocs.io/en/stable/api/generated/\\\n",
       "  // IPython.display.html#IPython.display.Javascript.__init__\n",
       "  element[0].appendChild(target);\n",
       "  element[0].appendChild(style);\n",
       "\n",
       "  vega.render(\"#\" + id, spec, type, opt, output_area);\n",
       "}, function (err) {\n",
       "  if (err.requireType !== \"scripterror\") {\n",
       "    throw(err);\n",
       "  }\n",
       "});\n"
      ],
      "text/plain": [
       "<vega.vegalite.VegaLite at 0x7fdf6ff32c50>"
      ]
     },
     "metadata": {
      "jupyter-vega": "#7cdfcc9c-36ee-411d-8698-f733536da38d"
     },
     "output_type": "display_data"
    },
    {
     "data": {
      "text/plain": []
     },
     "execution_count": 25,
     "metadata": {},
     "output_type": "execute_result"
    },
    {
     "data": {
      "image/png": "[encoded data removed]"
     },
     "metadata": {
      "jupyter-vega": "#7cdfcc9c-36ee-411d-8698-f733536da38d"
     },
     "output_type": "display_data"
    }
   ],
   "source": [
    "plot_histogram_normal_skewed(0, 1, -4, \"blue\")"
   ]
  },
  {
   "cell_type": "markdown",
   "metadata": {},
   "source": [
    "For seeing the kurtosis in action, let's look at some data. We will load in the AAPL stock price from a h5 file:"
   ]
  },
  {
   "cell_type": "code",
   "execution_count": 26,
   "metadata": {},
   "outputs": [],
   "source": [
    "import pandas as pd\n",
    "aapl = pd.read_hdf(\"data/AAPL.h5\", key=\"AAPL\")"
   ]
  },
  {
   "cell_type": "code",
   "execution_count": 27,
   "metadata": {},
   "outputs": [
    {
     "data": {
      "text/html": [
       "<div>\n",
       "<style scoped>\n",
       "    .dataframe tbody tr th:only-of-type {\n",
       "        vertical-align: middle;\n",
       "    }\n",
       "\n",
       "    .dataframe tbody tr th {\n",
       "        vertical-align: top;\n",
       "    }\n",
       "\n",
       "    .dataframe thead th {\n",
       "        text-align: right;\n",
       "    }\n",
       "</style>\n",
       "<table border=\"1\" class=\"dataframe\">\n",
       "  <thead>\n",
       "    <tr style=\"text-align: right;\">\n",
       "      <th></th>\n",
       "      <th>Open</th>\n",
       "      <th>High</th>\n",
       "      <th>Low</th>\n",
       "      <th>Close</th>\n",
       "      <th>Volume</th>\n",
       "      <th>Adj Close</th>\n",
       "    </tr>\n",
       "    <tr>\n",
       "      <th>Date</th>\n",
       "      <th></th>\n",
       "      <th></th>\n",
       "      <th></th>\n",
       "      <th></th>\n",
       "      <th></th>\n",
       "      <th></th>\n",
       "    </tr>\n",
       "  </thead>\n",
       "  <tbody>\n",
       "    <tr>\n",
       "      <th>2000-01-03</th>\n",
       "      <td>104.87</td>\n",
       "      <td>112.50</td>\n",
       "      <td>101.69</td>\n",
       "      <td>111.94</td>\n",
       "      <td>19144400</td>\n",
       "      <td>27.74</td>\n",
       "    </tr>\n",
       "    <tr>\n",
       "      <th>2000-01-04</th>\n",
       "      <td>108.25</td>\n",
       "      <td>110.62</td>\n",
       "      <td>101.19</td>\n",
       "      <td>102.50</td>\n",
       "      <td>18310000</td>\n",
       "      <td>25.40</td>\n",
       "    </tr>\n",
       "    <tr>\n",
       "      <th>2000-01-05</th>\n",
       "      <td>103.75</td>\n",
       "      <td>110.56</td>\n",
       "      <td>103.00</td>\n",
       "      <td>104.00</td>\n",
       "      <td>27818000</td>\n",
       "      <td>25.77</td>\n",
       "    </tr>\n",
       "    <tr>\n",
       "      <th>2000-01-06</th>\n",
       "      <td>106.12</td>\n",
       "      <td>107.00</td>\n",
       "      <td>95.00</td>\n",
       "      <td>95.00</td>\n",
       "      <td>27443200</td>\n",
       "      <td>23.54</td>\n",
       "    </tr>\n",
       "    <tr>\n",
       "      <th>2000-01-07</th>\n",
       "      <td>96.50</td>\n",
       "      <td>101.00</td>\n",
       "      <td>95.50</td>\n",
       "      <td>99.50</td>\n",
       "      <td>16463200</td>\n",
       "      <td>24.66</td>\n",
       "    </tr>\n",
       "  </tbody>\n",
       "</table>\n",
       "</div>"
      ],
      "text/plain": [
       "              Open    High     Low   Close    Volume  Adj Close\n",
       "Date                                                           \n",
       "2000-01-03  104.87  112.50  101.69  111.94  19144400      27.74\n",
       "2000-01-04  108.25  110.62  101.19  102.50  18310000      25.40\n",
       "2000-01-05  103.75  110.56  103.00  104.00  27818000      25.77\n",
       "2000-01-06  106.12  107.00   95.00   95.00  27443200      23.54\n",
       "2000-01-07   96.50  101.00   95.50   99.50  16463200      24.66"
      ]
     },
     "execution_count": 27,
     "metadata": {},
     "output_type": "execute_result"
    }
   ],
   "source": [
    "aapl.head()"
   ]
  },
  {
   "cell_type": "markdown",
   "metadata": {},
   "source": [
    "#### Exercises\n",
    "\n",
    "1. Compute the increase in price for each day (Close - Open)\n",
    "2. Plot a histogram of these increases\n",
    "3. Investigate the `stats.skew` and `stats.kurtosis` functions to compute the third and fourth moment of the dataset.\n",
    "\n",
    "*For solutions, see `solutions/moments.py`*\n",
    "\n",
    "#### Extended exercise\n",
    "\n",
    "Quandl has a python module for extracting datasets. The documentation is available at https://www.quandl.com/tools/python\n",
    "\n",
    "Install this module, and review the documentation to obtain stock prices for the following four tech giants:\n",
    "* IBM\n",
    "* Google\n",
    "* Apple (more up-to-date than our dataset)\n",
    "* Amazon\n",
    "\n",
    "Compute the skew and kurtosis of each stock, and compare the results. Looking at the histograms of the stock prices, the skew and the kurtosis, what does this tell you about the usefulness of these moments?\n",
    "\n",
    "Note: Extended exercises are more open-ended than normal exercises, and may take significantly longer to complete. They also tend to be harder than other exercises. "
   ]
  },
  {
   "cell_type": "code",
   "execution_count": 29,
   "metadata": {},
   "outputs": [],
   "source": [
    "#1\n",
    "aapl[\"DayChange\"] = aapl.Close - aapl.Open"
   ]
  },
  {
   "cell_type": "code",
   "execution_count": 30,
   "metadata": {},
   "outputs": [
    {
     "data": {
      "text/plain": [
       "Date\n",
       "2000-01-03     7.07\n",
       "2000-01-04    -5.75\n",
       "2000-01-05     0.25\n",
       "2000-01-06   -11.12\n",
       "2000-01-07     3.00\n",
       "Name: DayChange, dtype: float64"
      ]
     },
     "execution_count": 30,
     "metadata": {},
     "output_type": "execute_result"
    }
   ],
   "source": [
    "aapl.DayChange.head()"
   ]
  },
  {
   "cell_type": "code",
   "execution_count": 31,
   "metadata": {},
   "outputs": [
    {
     "data": {
      "application/javascript": [
       "const spec = {\"data\": {\"url\": \"altair-data-0aa7eac713796ea849ce01f0d4b60b33.json\", \"format\": {\"type\": \"json\"}}, \"$schema\": \"https://vega.github.io/schema/vega-lite/v3.4.0.json\", \"encoding\": {\"y\": {\"aggregate\": \"count\", \"type\": \"quantitative\"}, \"x\": {\"bin\": {\"maxbins\": 100}, \"field\": \"DayChange\", \"type\": \"quantitative\"}}, \"config\": {\"view\": {\"width\": 400, \"height\": 300}, \"mark\": {\"tooltip\": null}}, \"mark\": \"bar\"};\n",
       "const opt = {};\n",
       "const type = \"vega-lite\";\n",
       "const id = \"bb43f501-9341-4e54-a529-20646069d309\";\n",
       "\n",
       "const output_area = this;\n",
       "\n",
       "require([\"nbextensions/jupyter-vega/index\"], function(vega) {\n",
       "  const target = document.createElement(\"div\");\n",
       "  target.id = id;\n",
       "  target.className = \"vega-embed\";\n",
       "\n",
       "  const style = document.createElement(\"style\");\n",
       "  style.textContent = [\n",
       "    \".vega-embed .error p {\",\n",
       "    \"  color: firebrick;\",\n",
       "    \"  font-size: 14px;\",\n",
       "    \"}\",\n",
       "  ].join(\"\\\\n\");\n",
       "\n",
       "  // element is a jQuery wrapped DOM element inside the output area\n",
       "  // see http://ipython.readthedocs.io/en/stable/api/generated/\\\n",
       "  // IPython.display.html#IPython.display.Javascript.__init__\n",
       "  element[0].appendChild(target);\n",
       "  element[0].appendChild(style);\n",
       "\n",
       "  vega.render(\"#\" + id, spec, type, opt, output_area);\n",
       "}, function (err) {\n",
       "  if (err.requireType !== \"scripterror\") {\n",
       "    throw(err);\n",
       "  }\n",
       "});\n"
      ],
      "text/plain": [
       "<vega.vegalite.VegaLite at 0x7fdf6f6b89d0>"
      ]
     },
     "metadata": {
      "jupyter-vega": "#bb43f501-9341-4e54-a529-20646069d309"
     },
     "output_type": "display_data"
    },
    {
     "data": {
      "text/plain": []
     },
     "execution_count": 31,
     "metadata": {},
     "output_type": "execute_result"
    },
    {
     "data": {
      "image/png": "[encoded data removed]"
     },
     "metadata": {
      "jupyter-vega": "#bb43f501-9341-4e54-a529-20646069d309"
     },
     "output_type": "display_data"
    }
   ],
   "source": [
    "#2\n",
    "alt.Chart(aapl).mark_bar().encode(\n",
    "        alt.X(\"DayChange\", bin=alt.Bin(maxbins=100)),\n",
    "        y = \"count()\"\n",
    "    )"
   ]
  },
  {
   "cell_type": "code",
   "execution_count": 44,
   "metadata": {},
   "outputs": [
    {
     "name": "stdout",
     "output_type": "stream",
     "text": [
      "Skew: -0.358956165562\n",
      "Kurtosis: 12.862787459\n"
     ]
    }
   ],
   "source": [
    "#3\n",
    "\n",
    "skew = stats.skew(aapl.DayChange)\n",
    "kurtosis = stats.kurtosis(aapl.DayChange)\n",
    "\n",
    "print('Skew: %s' % skew)\n",
    "print('Kurtosis: %s' % kurtosis)"
   ]
  },
  {
   "cell_type": "code",
   "execution_count": 45,
   "metadata": {},
   "outputs": [
    {
     "data": {
      "application/javascript": [
       "const spec = {\"data\": {\"url\": \"altair-data-0664c1b256ca8b37f2a099c44154fedb.json\", \"format\": {\"type\": \"json\"}}, \"$schema\": \"https://vega.github.io/schema/vega-lite/v3.4.0.json\", \"encoding\": {\"color\": {\"value\": \"red\"}, \"y\": {\"aggregate\": \"count\", \"type\": \"quantitative\"}, \"x\": {\"bin\": {\"maxbins\": 100}, \"field\": \"Price_Change\", \"type\": \"quantitative\"}}, \"config\": {\"view\": {\"width\": 400, \"height\": 300}, \"mark\": {\"tooltip\": null}}, \"mark\": \"bar\"};\n",
       "const opt = {};\n",
       "const type = \"vega-lite\";\n",
       "const id = \"85deb9c2-a3c5-4d81-8faf-eff2b3c18e0c\";\n",
       "\n",
       "const output_area = this;\n",
       "\n",
       "require([\"nbextensions/jupyter-vega/index\"], function(vega) {\n",
       "  const target = document.createElement(\"div\");\n",
       "  target.id = id;\n",
       "  target.className = \"vega-embed\";\n",
       "\n",
       "  const style = document.createElement(\"style\");\n",
       "  style.textContent = [\n",
       "    \".vega-embed .error p {\",\n",
       "    \"  color: firebrick;\",\n",
       "    \"  font-size: 14px;\",\n",
       "    \"}\",\n",
       "  ].join(\"\\\\n\");\n",
       "\n",
       "  // element is a jQuery wrapped DOM element inside the output area\n",
       "  // see http://ipython.readthedocs.io/en/stable/api/generated/\\\n",
       "  // IPython.display.html#IPython.display.Javascript.__init__\n",
       "  element[0].appendChild(target);\n",
       "  element[0].appendChild(style);\n",
       "\n",
       "  vega.render(\"#\" + id, spec, type, opt, output_area);\n",
       "}, function (err) {\n",
       "  if (err.requireType !== \"scripterror\") {\n",
       "    throw(err);\n",
       "  }\n",
       "});\n"
      ],
      "text/plain": [
       "<vega.vegalite.VegaLite at 0x7fdf6ff32390>"
      ]
     },
     "metadata": {
      "jupyter-vega": "#85deb9c2-a3c5-4d81-8faf-eff2b3c18e0c"
     },
     "output_type": "display_data"
    },
    {
     "data": {
      "text/plain": []
     },
     "metadata": {},
     "output_type": "display_data"
    },
    {
     "name": "stdout",
     "output_type": "stream",
     "text": [
      "Skew: -0.358956165562\n",
      "Kurtosis: 12.862787459\n"
     ]
    },
    {
     "data": {
      "image/png": "[encoded data removed]"
     },
     "metadata": {
      "jupyter-vega": "#85deb9c2-a3c5-4d81-8faf-eff2b3c18e0c"
     },
     "output_type": "display_data"
    }
   ],
   "source": [
    "aapl['Price_Change'] = aapl['Close'] - aapl['Open']\n",
    "aapl.head()\n",
    "\n",
    "\n",
    "chart = alt.Chart(aapl).mark_bar().encode(\n",
    "        alt.X(\"Price_Change\", bin=alt.Bin(maxbins=100)),\n",
    "        y='count()',\n",
    "        color=alt.value('red'))\n",
    "chart.display()\n",
    "\n",
    "print(\"Skew: \" + str(stats.skew(aapl['Price_Change'])))\n",
    "print(\"Kurtosis: \" + str(stats.kurtosis(aapl['Price_Change'])))"
   ]
  },
  {
   "cell_type": "markdown",
   "metadata": {},
   "source": [
    "*For solutions, see `solutions/moments.py`*"
   ]
  },
  {
   "cell_type": "markdown",
   "metadata": {},
   "source": [
    "### Z-scores\n",
    "\n",
    "A \"z-score\" is a common normalisation method used for data. It removes the scale of the data, and instead considers the size of the data in terms of the standard deviation. It is a transformation of the data from one scale to another, using the mean and standard deviation:"
   ]
  },
  {
   "cell_type": "code",
   "execution_count": 46,
   "metadata": {},
   "outputs": [],
   "source": [
    "original_data = np.array([10, 20, 5, 105, 30, 17, 19], dtype=np.float32)\n",
    "m = np.mean(original_data)\n",
    "s = np.std(original_data)"
   ]
  },
  {
   "cell_type": "markdown",
   "metadata": {},
   "source": [
    "The transformation is to subtract the mean, and divide by the standard deviation:"
   ]
  },
  {
   "cell_type": "code",
   "execution_count": 47,
   "metadata": {},
   "outputs": [],
   "source": [
    "zscores = (original_data - m) / s"
   ]
  },
  {
   "cell_type": "code",
   "execution_count": 48,
   "metadata": {},
   "outputs": [
    {
     "data": {
      "text/plain": [
       "array([-0.612737  , -0.29735765, -0.77042663,  2.3833666 ,  0.01802167,\n",
       "       -0.39197144, -0.3288956 ], dtype=float32)"
      ]
     },
     "execution_count": 48,
     "metadata": {},
     "output_type": "execute_result"
    }
   ],
   "source": [
    "zscores"
   ]
  },
  {
   "cell_type": "markdown",
   "metadata": {},
   "source": [
    "The values of the z-scores are normalised, allowing us to compare data from different scales - for instance, comparing the stock prices between AAPL and MSFT for a period of one month, where direct comparisons are initially hard. \n",
    "\n",
    "Let's load some data from Quandl. To do that, create a file called `my_secrets.py` and create a value called `QUANDL_API_KEY` and set that equal to your API key from Quandl. You can obtain one by signing up at https://www.quandl.com/tools/api and then viewing your profile page at https://www.quandl.com/account/profile\n",
    "\n",
    "You can copy the file `my_secrets_template.py` to create this file for you. Just copy the file and fill out the data. Ensure this file is in the same directory as your notebooks."
   ]
  },
  {
   "cell_type": "code",
   "execution_count": 49,
   "metadata": {},
   "outputs": [
    {
     "name": "stdout",
     "output_type": "stream",
     "text": [
      "Writing my_secrets.py\n"
     ]
    }
   ],
   "source": [
    "%%writefile my_secrets.py\n",
    "\n",
    "QUANDL_API_KEY = \"\""
   ]
  },
  {
   "cell_type": "code",
   "execution_count": 50,
   "metadata": {},
   "outputs": [],
   "source": [
    "import quandl\n",
    "import my_secrets\n",
    "quandl.ApiConfig.api_key = my_secrets.QUANDL_API_KEY"
   ]
  },
  {
   "cell_type": "code",
   "execution_count": 52,
   "metadata": {},
   "outputs": [],
   "source": [
    "data = quandl.get_table('WIKI/PRICES', ticker = ['MSFT', 'AAPL'], \n",
    "                        qopts = { 'columns': ['ticker', 'date', 'adj_close'] }, \n",
    "                        date = { 'gte': '2017-01-01', 'lte': '2019-01-01' }, \n",
    "                        paginate=True)"
   ]
  },
  {
   "cell_type": "code",
   "execution_count": 53,
   "metadata": {},
   "outputs": [
    {
     "data": {
      "text/plain": [
       "pandas.core.frame.DataFrame"
      ]
     },
     "execution_count": 53,
     "metadata": {},
     "output_type": "execute_result"
    }
   ],
   "source": [
    "data.sample(5)\n",
    "type(data)"
   ]
  },
  {
   "cell_type": "markdown",
   "metadata": {},
   "source": [
    "If we compare the means, we see that AAPL has a higher adjusted close value."
   ]
  },
  {
   "cell_type": "code",
   "execution_count": 54,
   "metadata": {},
   "outputs": [
    {
     "data": {
      "text/plain": [
       "ticker\n",
       "AAPL    154.137248\n",
       "MSFT     75.098922\n",
       "Name: adj_close, dtype: float64"
      ]
     },
     "execution_count": 54,
     "metadata": {},
     "output_type": "execute_result"
    }
   ],
   "source": [
    "data.groupby(\"ticker\")['adj_close'].mean()"
   ]
  },
  {
   "cell_type": "markdown",
   "metadata": {},
   "source": [
    "However, we might be more interested to see whether movements swing wildly, or are stable with regard to the current price."
   ]
  },
  {
   "cell_type": "code",
   "execution_count": 55,
   "metadata": {},
   "outputs": [
    {
     "data": {
      "application/javascript": [
       "const spec = {\"data\": {\"url\": \"altair-data-e57062ed1f8775bb48b74b2f1677828b.json\", \"format\": {\"type\": \"json\"}}, \"$schema\": \"https://vega.github.io/schema/vega-lite/v3.4.0.json\", \"encoding\": {\"color\": {\"field\": \"ticker\", \"type\": \"nominal\"}, \"y\": {\"aggregate\": \"count\", \"type\": \"quantitative\", \"stack\": null}, \"x\": {\"bin\": {\"maxbins\": 30}, \"field\": \"adj_close\", \"type\": \"quantitative\"}}, \"config\": {\"view\": {\"width\": 400, \"height\": 300}, \"mark\": {\"tooltip\": null}}, \"mark\": {\"opacity\": 0.4, \"type\": \"bar\"}};\n",
       "const opt = {};\n",
       "const type = \"vega-lite\";\n",
       "const id = \"5c310635-74e6-4a8b-8fd5-b4ef798d1e1f\";\n",
       "\n",
       "const output_area = this;\n",
       "\n",
       "require([\"nbextensions/jupyter-vega/index\"], function(vega) {\n",
       "  const target = document.createElement(\"div\");\n",
       "  target.id = id;\n",
       "  target.className = \"vega-embed\";\n",
       "\n",
       "  const style = document.createElement(\"style\");\n",
       "  style.textContent = [\n",
       "    \".vega-embed .error p {\",\n",
       "    \"  color: firebrick;\",\n",
       "    \"  font-size: 14px;\",\n",
       "    \"}\",\n",
       "  ].join(\"\\\\n\");\n",
       "\n",
       "  // element is a jQuery wrapped DOM element inside the output area\n",
       "  // see http://ipython.readthedocs.io/en/stable/api/generated/\\\n",
       "  // IPython.display.html#IPython.display.Javascript.__init__\n",
       "  element[0].appendChild(target);\n",
       "  element[0].appendChild(style);\n",
       "\n",
       "  vega.render(\"#\" + id, spec, type, opt, output_area);\n",
       "}, function (err) {\n",
       "  if (err.requireType !== \"scripterror\") {\n",
       "    throw(err);\n",
       "  }\n",
       "});\n"
      ],
      "text/plain": [
       "<vega.vegalite.VegaLite at 0x7fdf6ebfe410>"
      ]
     },
     "metadata": {
      "jupyter-vega": "#5c310635-74e6-4a8b-8fd5-b4ef798d1e1f"
     },
     "output_type": "display_data"
    },
    {
     "data": {
      "text/plain": []
     },
     "execution_count": 55,
     "metadata": {},
     "output_type": "execute_result"
    },
    {
     "data": {
      "image/png": "[encoded data removed]"
     },
     "metadata": {
      "jupyter-vega": "#5c310635-74e6-4a8b-8fd5-b4ef798d1e1f"
     },
     "output_type": "display_data"
    }
   ],
   "source": [
    "alt.Chart(data).mark_bar(opacity=0.4).encode(\n",
    "    x=alt.X(\"adj_close\", bin=alt.Bin(maxbins=30)),\n",
    "    y=alt.Y('count()', stack=None),\n",
    "    # column='ticker',\n",
    "    color='ticker',\n",
    ")"
   ]
  },
  {
   "cell_type": "markdown",
   "metadata": {},
   "source": [
    "To truly compare these distributions, we need to convert them to z-scores first, which gives us more information about the relative stock price movements:"
   ]
  },
  {
   "cell_type": "code",
   "execution_count": 56,
   "metadata": {},
   "outputs": [
    {
     "data": {
      "text/plain": [
       "Index([u'ticker', u'date', u'adj_close'], dtype='object')"
      ]
     },
     "execution_count": 56,
     "metadata": {},
     "output_type": "execute_result"
    }
   ],
   "source": [
    "data.columns"
   ]
  },
  {
   "cell_type": "code",
   "execution_count": 57,
   "metadata": {},
   "outputs": [
    {
     "data": {
      "text/html": [
       "<div>\n",
       "<style scoped>\n",
       "    .dataframe tbody tr th:only-of-type {\n",
       "        vertical-align: middle;\n",
       "    }\n",
       "\n",
       "    .dataframe tbody tr th {\n",
       "        vertical-align: top;\n",
       "    }\n",
       "\n",
       "    .dataframe thead th {\n",
       "        text-align: right;\n",
       "    }\n",
       "</style>\n",
       "<table border=\"1\" class=\"dataframe\">\n",
       "  <thead>\n",
       "    <tr style=\"text-align: right;\">\n",
       "      <th>ticker</th>\n",
       "      <th>AAPL</th>\n",
       "      <th>MSFT</th>\n",
       "    </tr>\n",
       "    <tr>\n",
       "      <th>date</th>\n",
       "      <th></th>\n",
       "      <th></th>\n",
       "    </tr>\n",
       "  </thead>\n",
       "  <tbody>\n",
       "    <tr>\n",
       "      <th>2017-01-03</th>\n",
       "      <td>-2.399152</td>\n",
       "      <td>-1.330589</td>\n",
       "    </tr>\n",
       "    <tr>\n",
       "      <th>2017-01-04</th>\n",
       "      <td>-2.406966</td>\n",
       "      <td>-1.356847</td>\n",
       "    </tr>\n",
       "    <tr>\n",
       "      <th>2017-01-05</th>\n",
       "      <td>-2.371503</td>\n",
       "      <td>-1.356847</td>\n",
       "    </tr>\n",
       "    <tr>\n",
       "      <th>2017-01-06</th>\n",
       "      <td>-2.293364</td>\n",
       "      <td>-1.306206</td>\n",
       "    </tr>\n",
       "    <tr>\n",
       "      <th>2017-01-09</th>\n",
       "      <td>-2.228449</td>\n",
       "      <td>-1.324962</td>\n",
       "    </tr>\n",
       "  </tbody>\n",
       "</table>\n",
       "</div>"
      ],
      "text/plain": [
       "ticker          AAPL      MSFT\n",
       "date                          \n",
       "2017-01-03 -2.399152 -1.330589\n",
       "2017-01-04 -2.406966 -1.356847\n",
       "2017-01-05 -2.371503 -1.356847\n",
       "2017-01-06 -2.293364 -1.306206\n",
       "2017-01-09 -2.228449 -1.324962"
      ]
     },
     "execution_count": 57,
     "metadata": {},
     "output_type": "execute_result"
    }
   ],
   "source": [
    "prices = data.pivot(columns=\"ticker\", index=\"date\", values='adj_close')\n",
    "z_scores = (prices - prices.mean())/prices.std()\n",
    "z_scores.head()"
   ]
  },
  {
   "cell_type": "code",
   "execution_count": 58,
   "metadata": {},
   "outputs": [
    {
     "data": {
      "application/javascript": [
       "const spec = {\"data\": {\"url\": \"altair-data-7699e15dfa2da9a6fbe9ec8cbbbb6d04.json\", \"format\": {\"type\": \"json\"}}, \"$schema\": \"https://vega.github.io/schema/vega-lite/v3.4.0.json\", \"encoding\": {\"color\": {\"field\": \"ticker\", \"type\": \"nominal\"}, \"y\": {\"aggregate\": \"count\", \"type\": \"quantitative\", \"stack\": null}, \"x\": {\"bin\": {\"maxbins\": 30}, \"field\": \"z_score_adj_close\", \"type\": \"quantitative\"}}, \"config\": {\"view\": {\"width\": 400, \"height\": 300}, \"mark\": {\"tooltip\": null}}, \"mark\": {\"opacity\": 0.4, \"type\": \"bar\"}};\n",
       "const opt = {};\n",
       "const type = \"vega-lite\";\n",
       "const id = \"760732bf-390c-4311-a584-77831525f1b7\";\n",
       "\n",
       "const output_area = this;\n",
       "\n",
       "require([\"nbextensions/jupyter-vega/index\"], function(vega) {\n",
       "  const target = document.createElement(\"div\");\n",
       "  target.id = id;\n",
       "  target.className = \"vega-embed\";\n",
       "\n",
       "  const style = document.createElement(\"style\");\n",
       "  style.textContent = [\n",
       "    \".vega-embed .error p {\",\n",
       "    \"  color: firebrick;\",\n",
       "    \"  font-size: 14px;\",\n",
       "    \"}\",\n",
       "  ].join(\"\\\\n\");\n",
       "\n",
       "  // element is a jQuery wrapped DOM element inside the output area\n",
       "  // see http://ipython.readthedocs.io/en/stable/api/generated/\\\n",
       "  // IPython.display.html#IPython.display.Javascript.__init__\n",
       "  element[0].appendChild(target);\n",
       "  element[0].appendChild(style);\n",
       "\n",
       "  vega.render(\"#\" + id, spec, type, opt, output_area);\n",
       "}, function (err) {\n",
       "  if (err.requireType !== \"scripterror\") {\n",
       "    throw(err);\n",
       "  }\n",
       "});\n"
      ],
      "text/plain": [
       "<vega.vegalite.VegaLite at 0x7fdf6fedfbd0>"
      ]
     },
     "metadata": {
      "jupyter-vega": "#760732bf-390c-4311-a584-77831525f1b7"
     },
     "output_type": "display_data"
    },
    {
     "data": {
      "text/plain": []
     },
     "execution_count": 58,
     "metadata": {},
     "output_type": "execute_result"
    },
    {
     "data": {
      "image/png": "[encoded data removed]"
     },
     "metadata": {
      "jupyter-vega": "#760732bf-390c-4311-a584-77831525f1b7"
     },
     "output_type": "display_data"
    }
   ],
   "source": [
    "alt.Chart(z_scores.melt(value_name=\"z_score_adj_close\")).mark_bar(opacity=0.4).encode(\n",
    "    x=alt.X(\"z_score_adj_close\", bin=alt.Bin(maxbins=30)),\n",
    "    y=alt.Y('count()', stack=None),\n",
    "    # column='ticker',\n",
    "    color='ticker',\n",
    ")"
   ]
  },
  {
   "cell_type": "markdown",
   "metadata": {},
   "source": [
    "We can now compare the distributions, visually and directly against each other. This specific analysis doesn't tell us much, but we can use z-scores to compare distributions of data from different scales, as we saw above."
   ]
  },
  {
   "cell_type": "markdown",
   "metadata": {},
   "source": [
    "#### Exercise\n",
    "\n",
    "Perform the same analysis, but using the increase in adjusted closing price in a given day, rather than the absolute value."
   ]
  },
  {
   "cell_type": "code",
   "execution_count": 65,
   "metadata": {},
   "outputs": [
    {
     "name": "stdout",
     "output_type": "stream",
     "text": [
      "ticker          AAPL      MSFT\n",
      "date                          \n",
      "2017-01-03       NaN       NaN\n",
      "2017-01-04 -0.128394 -0.273911\n",
      "2017-01-05  0.582713  0.000000\n",
      "2017-01-06  1.283943  0.528257\n",
      "2017-01-09  1.066660 -0.195651\n"
     ]
    }
   ],
   "source": [
    "prices_diff = data.pivot(columns=\"ticker\", index=\"date\", values='adj_close').diff()\n",
    "print(prices_incr.head())"
   ]
  },
  {
   "cell_type": "code",
   "execution_count": 66,
   "metadata": {},
   "outputs": [
    {
     "data": {
      "text/html": [
       "<div>\n",
       "<style scoped>\n",
       "    .dataframe tbody tr th:only-of-type {\n",
       "        vertical-align: middle;\n",
       "    }\n",
       "\n",
       "    .dataframe tbody tr th {\n",
       "        vertical-align: top;\n",
       "    }\n",
       "\n",
       "    .dataframe thead th {\n",
       "        text-align: right;\n",
       "    }\n",
       "</style>\n",
       "<table border=\"1\" class=\"dataframe\">\n",
       "  <thead>\n",
       "    <tr style=\"text-align: right;\">\n",
       "      <th>ticker</th>\n",
       "      <th>AAPL</th>\n",
       "      <th>MSFT</th>\n",
       "    </tr>\n",
       "    <tr>\n",
       "      <th>date</th>\n",
       "      <th></th>\n",
       "      <th></th>\n",
       "    </tr>\n",
       "  </thead>\n",
       "  <tbody>\n",
       "    <tr>\n",
       "      <th>2017-01-03</th>\n",
       "      <td>NaN</td>\n",
       "      <td>NaN</td>\n",
       "    </tr>\n",
       "    <tr>\n",
       "      <th>2017-01-04</th>\n",
       "      <td>-0.149578</td>\n",
       "      <td>-0.367208</td>\n",
       "    </tr>\n",
       "    <tr>\n",
       "      <th>2017-01-05</th>\n",
       "      <td>0.215154</td>\n",
       "      <td>-0.092118</td>\n",
       "    </tr>\n",
       "    <tr>\n",
       "      <th>2017-01-06</th>\n",
       "      <td>0.574820</td>\n",
       "      <td>0.438412</td>\n",
       "    </tr>\n",
       "    <tr>\n",
       "      <th>2017-01-09</th>\n",
       "      <td>0.463374</td>\n",
       "      <td>-0.288611</td>\n",
       "    </tr>\n",
       "  </tbody>\n",
       "</table>\n",
       "</div>"
      ],
      "text/plain": [
       "ticker          AAPL      MSFT\n",
       "date                          \n",
       "2017-01-03       NaN       NaN\n",
       "2017-01-04 -0.149578 -0.367208\n",
       "2017-01-05  0.215154 -0.092118\n",
       "2017-01-06  0.574820  0.438412\n",
       "2017-01-09  0.463374 -0.288611"
      ]
     },
     "execution_count": 66,
     "metadata": {},
     "output_type": "execute_result"
    }
   ],
   "source": [
    "z_scores_diff = (prices_diff - prices_diff.mean())/prices_diff.std()\n",
    "z_scores_diff.head()"
   ]
  },
  {
   "cell_type": "code",
   "execution_count": 67,
   "metadata": {},
   "outputs": [
    {
     "data": {
      "application/javascript": [
       "const spec = {\"data\": {\"url\": \"altair-data-d211be2aec8eb1b86ddb8483cd370079.json\", \"format\": {\"type\": \"json\"}}, \"$schema\": \"https://vega.github.io/schema/vega-lite/v3.4.0.json\", \"encoding\": {\"color\": {\"field\": \"ticker\", \"type\": \"nominal\"}, \"y\": {\"aggregate\": \"count\", \"type\": \"quantitative\", \"stack\": null}, \"x\": {\"bin\": {\"maxbins\": 30}, \"field\": \"z_score_adj_close_diff\", \"type\": \"quantitative\"}}, \"config\": {\"view\": {\"width\": 400, \"height\": 300}, \"mark\": {\"tooltip\": null}}, \"mark\": {\"opacity\": 0.4, \"type\": \"bar\"}};\n",
       "const opt = {};\n",
       "const type = \"vega-lite\";\n",
       "const id = \"6f7183a2-3049-435b-9332-f86f72d88321\";\n",
       "\n",
       "const output_area = this;\n",
       "\n",
       "require([\"nbextensions/jupyter-vega/index\"], function(vega) {\n",
       "  const target = document.createElement(\"div\");\n",
       "  target.id = id;\n",
       "  target.className = \"vega-embed\";\n",
       "\n",
       "  const style = document.createElement(\"style\");\n",
       "  style.textContent = [\n",
       "    \".vega-embed .error p {\",\n",
       "    \"  color: firebrick;\",\n",
       "    \"  font-size: 14px;\",\n",
       "    \"}\",\n",
       "  ].join(\"\\\\n\");\n",
       "\n",
       "  // element is a jQuery wrapped DOM element inside the output area\n",
       "  // see http://ipython.readthedocs.io/en/stable/api/generated/\\\n",
       "  // IPython.display.html#IPython.display.Javascript.__init__\n",
       "  element[0].appendChild(target);\n",
       "  element[0].appendChild(style);\n",
       "\n",
       "  vega.render(\"#\" + id, spec, type, opt, output_area);\n",
       "}, function (err) {\n",
       "  if (err.requireType !== \"scripterror\") {\n",
       "    throw(err);\n",
       "  }\n",
       "});\n"
      ],
      "text/plain": [
       "<vega.vegalite.VegaLite at 0x7fdf6ebccbd0>"
      ]
     },
     "metadata": {
      "jupyter-vega": "#6f7183a2-3049-435b-9332-f86f72d88321"
     },
     "output_type": "display_data"
    },
    {
     "data": {
      "text/plain": []
     },
     "execution_count": 67,
     "metadata": {},
     "output_type": "execute_result"
    },
    {
     "data": {
      "image/png": "[encoded data removed]"
     },
     "metadata": {
      "jupyter-vega": "#6f7183a2-3049-435b-9332-f86f72d88321"
     },
     "output_type": "display_data"
    }
   ],
   "source": [
    "alt.Chart(z_scores_diff.melt(value_name=\"z_score_adj_close_diff\")).mark_bar(opacity=0.4).encode(\n",
    "    x=alt.X(\"z_score_adj_close_diff\", bin=alt.Bin(maxbins=30)),\n",
    "    y=alt.Y('count()', stack=None),\n",
    "    color='ticker',\n",
    ")"
   ]
  },
  {
   "cell_type": "code",
   "execution_count": 68,
   "metadata": {},
   "outputs": [
    {
     "data": {
      "application/javascript": [
       "const spec = {\"data\": {\"url\": \"altair-data-092b31643b8f96416cb026182faeb575.json\", \"format\": {\"type\": \"json\"}}, \"$schema\": \"https://vega.github.io/schema/vega-lite/v3.4.0.json\", \"encoding\": {\"color\": {\"field\": \"ticker\", \"type\": \"nominal\"}, \"y\": {\"aggregate\": \"count\", \"type\": \"quantitative\", \"stack\": null}, \"x\": {\"bin\": {\"maxbins\": 30}, \"field\": \"z_score_returns\", \"type\": \"quantitative\"}}, \"config\": {\"view\": {\"width\": 400, \"height\": 300}, \"mark\": {\"tooltip\": null}}, \"mark\": {\"opacity\": 0.4, \"type\": \"bar\"}};\n",
       "const opt = {};\n",
       "const type = \"vega-lite\";\n",
       "const id = \"ffb80657-acb3-47da-812f-c636ed310f0e\";\n",
       "\n",
       "const output_area = this;\n",
       "\n",
       "require([\"nbextensions/jupyter-vega/index\"], function(vega) {\n",
       "  const target = document.createElement(\"div\");\n",
       "  target.id = id;\n",
       "  target.className = \"vega-embed\";\n",
       "\n",
       "  const style = document.createElement(\"style\");\n",
       "  style.textContent = [\n",
       "    \".vega-embed .error p {\",\n",
       "    \"  color: firebrick;\",\n",
       "    \"  font-size: 14px;\",\n",
       "    \"}\",\n",
       "  ].join(\"\\\\n\");\n",
       "\n",
       "  // element is a jQuery wrapped DOM element inside the output area\n",
       "  // see http://ipython.readthedocs.io/en/stable/api/generated/\\\n",
       "  // IPython.display.html#IPython.display.Javascript.__init__\n",
       "  element[0].appendChild(target);\n",
       "  element[0].appendChild(style);\n",
       "\n",
       "  vega.render(\"#\" + id, spec, type, opt, output_area);\n",
       "}, function (err) {\n",
       "  if (err.requireType !== \"scripterror\") {\n",
       "    throw(err);\n",
       "  }\n",
       "});\n"
      ],
      "text/plain": [
       "<vega.vegalite.VegaLite at 0x7fdf6ebcc950>"
      ]
     },
     "metadata": {
      "jupyter-vega": "#ffb80657-acb3-47da-812f-c636ed310f0e"
     },
     "output_type": "display_data"
    },
    {
     "data": {
      "text/plain": []
     },
     "execution_count": 68,
     "metadata": {},
     "output_type": "execute_result"
    },
    {
     "data": {
      "image/png": "[encoded data removed]"
     },
     "metadata": {
      "jupyter-vega": "#ffb80657-acb3-47da-812f-c636ed310f0e"
     },
     "output_type": "display_data"
    }
   ],
   "source": [
    "returns = prices.pct_change().iloc[1:,:]\n",
    "z_rets = (returns - returns.mean())/returns.std()\n",
    "\n",
    "alt.Chart(z_rets.melt(value_name=\"z_score_returns\")).mark_bar(opacity=0.4).encode(\n",
    "    x=alt.X(\"z_score_returns\", bin=alt.Bin(maxbins=30)),\n",
    "    y=alt.Y('count()', stack=None),\n",
    "    # column='ticker',\n",
    "    color='ticker',\n",
    ")"
   ]
  },
  {
   "cell_type": "markdown",
   "metadata": {},
   "source": [
    "*For solutions, see `solutions/adjusted_increases.py`*"
   ]
  }
 ],
 "metadata": {
  "kernelspec": {
   "display_name": "Python 3 (ipykernel)",
   "language": "python",
   "name": "python3"
  },
  "language_info": {
   "codemirror_mode": {
    "name": "ipython",
    "version": 2
   },
   "file_extension": ".py",
   "mimetype": "text/x-python",
   "name": "python",
   "nbconvert_exporter": "python",
   "pygments_lexer": "ipython2",
   "version": "2.7.18"
  }
 },
 "nbformat": 4,
 "nbformat_minor": 2
}
