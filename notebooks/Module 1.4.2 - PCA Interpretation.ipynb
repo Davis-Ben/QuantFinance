{
 "cells": [
  {
   "attachments": {},
   "cell_type": "markdown",
   "metadata": {},
   "source": [
    "# Introduction to Quantitative Finance\n",
    "\n",
    "Copyright (c) 2019 Python Charmers Pty Ltd, Australia, <https://pythoncharmers.com>. All rights reserved.\n",
    "\n",
    "<img src=\"img/python_charmers_logo.png\" width=\"300\" alt=\"Python Charmers Logo\">\n",
    "\n",
    "    Published under the Creative Commons Attribution-NonCommercial 4.0 International (CC BY-NC 4.0) license. See `LICENSE.md` for details.\n",
    "\n",
    "Sponsored by Tibra Global Services, <https://tibra.com>\n",
    "\n",
    "<img src=\"img/tibra_logo.png\" width=\"300\" alt=\"Tibra Logo\">\n",
    "\n",
    "\n",
    "## Module 1.4: Principle Component Analysis (PCA)\n",
    "\n",
    "### 1.4.2 PCA Interpretation\n",
    "\n",
    "In the last notebook we introduced the Principle Component Analysis algorithm - PCA. In this notebook we will look at the algorithm in more detail, including methods for analysing the results.\n",
    "\n",
    "From a linear algebra perspective, the algorithm itself is quite straightforward:\n",
    "\n",
    "1. Normalise X to have a zero mean (`X = X - np.mean(X, axis=0)`)\n",
    "2. Calculate the covariance matrix $\\Sigma$, which is a square matrix of size `k`, the number of variables, where value $\\Sigma_{i,j}$ is the covariance of variables $i$ and $j$. Note that $\\Sigma = X'X$.\n",
    "3. Find the eigenvectors of $\\Sigma$\n",
    "\n",
    "The resulting eigenvectors will be the component and the eigenvalues of those will be the relative variance explained by the given component. If you sort the eigenvectors by their eigenvalues (highest first), you get the sorted eigenvectors, giving the sorted (by importance) principle components.\n",
    "\n",
    "To compute the transformed data, perform a dot product $XC$, where $C$ is a matrix of the first $n$ components we are interested in (which could be \"all of them\" if $n=k$)."
   ]
  },
  {
   "cell_type": "code",
   "execution_count": 1,
   "metadata": {},
   "outputs": [],
   "source": [
    "%run setup.ipy"
   ]
  },
  {
   "attachments": {},
   "cell_type": "markdown",
   "metadata": {},
   "source": [
    "\n",
    "#### Exercise\n",
    "\n",
    "1. Review the documentation for the scikit-learn PCA algorithm, as well as the linked description. What does the `whiten` parameter do and when is it useful?\n",
    "\n",
    "\n",
    "#### Extended Exercise\n",
    "\n",
    "Implement the PCA algorithm as given above using only the NumPy algorithm.\n",
    "\n",
    "**Hint:** The `np.linalg.eig` function can be used for computing the eigenvectors and eigenvalues, although they won't be sorted correctly.\n",
    "\n",
    "\n"
   ]
  },
  {
   "cell_type": "code",
   "execution_count": 2,
   "metadata": {},
   "outputs": [],
   "source": [
    "from dataclasses import dataclass"
   ]
  },
  {
   "cell_type": "code",
   "execution_count": 63,
   "metadata": {},
   "outputs": [],
   "source": [
    "@dataclass\n",
    "class PCAH:\n",
    "    components_: np.ndarray\n",
    "    explained_variance_ : np.ndarray"
   ]
  },
  {
   "cell_type": "code",
   "execution_count": 71,
   "metadata": {},
   "outputs": [],
   "source": [
    "def homespun_pca(X: np.ndarray, number_components=2):\n",
    "    X_normed = X - np.mean(X, axis=0)\n",
    "    Cov = np.cov(X_normed.T)\n",
    "    eigen_values, eigen_vectors = np.linalg.eig(Cov)\n",
    "    \n",
    "    # Sort from largest eigenvalue to smallest\n",
    "    index = eigen_values.argsort()[::-1]\n",
    "\n",
    "    eigen_vectors = eigen_vectors[:,index]\n",
    "    eigen_values = eigen_values[index]\n",
    "\n",
    "    return PCAH(eigen_vectors[:,:number_components], eigen_values[:number_components])\n",
    "    "
   ]
  },
  {
   "cell_type": "code",
   "execution_count": 14,
   "metadata": {},
   "outputs": [],
   "source": [
    "# Generate test data\n",
    "np.random.seed(1)\n",
    "NDIMS = 2\n",
    "X = np.dot(np.random.random(size=(NDIMS, NDIMS)), np.random.normal(size=(NDIMS, 200))).T"
   ]
  },
  {
   "cell_type": "code",
   "execution_count": 68,
   "metadata": {},
   "outputs": [
    {
     "name": "stdout",
     "output_type": "stream",
     "text": [
      "[[0.68217761 0.23093475]\n",
      " [0.23093475 0.09883179]]\n",
      "[[0.67876672 0.22978007]\n",
      " [0.22978007 0.09833763]]\n"
     ]
    }
   ],
   "source": [
    "X_normed = X - np.mean(X, axis=0)\n",
    "Cov_2 = np.cov(X_normed.T)\n",
    "Cov = X_normed.T @ X_normed / X.shape[0]\n",
    "\n",
    "print(Cov_2)\n",
    "print(Cov)"
   ]
  },
  {
   "cell_type": "code",
   "execution_count": 54,
   "metadata": {},
   "outputs": [
    {
     "name": "stdout",
     "output_type": "stream",
     "text": [
      "SKLearn Eigenvectors and values:\n",
      "[[-0.94446029 -0.32862557]\n",
      " [-0.32862557  0.94446029]]\n",
      "[0.7625315 0.0184779]\n"
     ]
    }
   ],
   "source": [
    "from sklearn.decomposition import PCA\n",
    "pca = PCA(n_components=2)\n",
    "pca.fit(X)\n",
    "print(\"SKLearn Eigenvectors and values:\")\n",
    "print(pca.components_)\n",
    "print(pca.explained_variance_)"
   ]
  },
  {
   "cell_type": "code",
   "execution_count": 70,
   "metadata": {},
   "outputs": [
    {
     "name": "stdout",
     "output_type": "stream",
     "text": [
      "Homespun Eigenvectors and values:\n",
      "[[ 0.94446029 -0.32862557]\n",
      " [ 0.32862557  0.94446029]]\n",
      "[0.7625315 0.0184779]\n"
     ]
    }
   ],
   "source": [
    "print(\"Homespun Eigenvectors and values:\")\n",
    "pcah = homespun_pca(X, number_components=2)\n",
    "print(pcah.components_)\n",
    "print(pcah.explained_variance_)"
   ]
  },
  {
   "attachments": {},
   "cell_type": "markdown",
   "metadata": {},
   "source": [
    "*For solutions, see `solutions/pca_numpy.py`*"
   ]
  },
  {
   "attachments": {},
   "cell_type": "markdown",
   "metadata": {},
   "source": [
    "### Eigenvectors and Eigenvalues\n",
    "\n",
    "Eigenvectors are an area of linear algebra that often causes lots of confusion. You *can* simply use PCA without knowing what they are. They are used within the algorithm, but the values that you normally use are the transformed dataset $X$, rather than the eigenvectors and eigenvalues themselves.\n",
    "\n",
    "However, an intuitive understanding of Eigenvectors can often help. To help with this, the following video on YouTube has the incredibly clear explanation and useful visualisations:\n",
    "\n",
    "<iframe width=\"560\" height=\"315\" src=\"https://www.youtube.com/embed/PFDu9oVAE-g\" frameborder=\"0\" allow=\"accelerometer; autoplay; encrypted-media; gyroscope; picture-in-picture\" allowfullscreen>\n",
    "</iframe>\n",
    "\n",
    "(If that doesn't load, which can happen due to security settings, click this link: https://www.youtube.com/watch?v=PFDu9oVAE-g )\n",
    "\n",
    "Usefully, the above video also talks about the change in basis, which is what PCA is effectively doing to your data.\n",
    "\n",
    "Details about linear algebra are outside the scope of this course, but I would recommend the full series of videos in the above playlist to fill any gaps in understanding. Also, the visualisations are written in Python!"
   ]
  },
  {
   "attachments": {},
   "cell_type": "markdown",
   "metadata": {},
   "source": [
    "### Limitations of PCA\n",
    "\n",
    "PCA is not a perfect algorithm (such a thing doesn't exist), and using it has drawbacks. These are listed below:\n",
    "\n",
    "### Computation Requirements\n",
    "\n",
    "From a practical perspective, it can be very computationally heavy to undertake PCA on a dataset, particularly a large one. For this reason, methods like a [Randomised PCA](http://lijiancheng0614.github.io/scikit-learn/modules/generated/sklearn.decomposition.RandomizedPCA.html) which gives an approximation that is normally good enough practically, but takes far less computation time.\n",
    "\n",
    "\n",
    "### Sparse Representations\n",
    "\n",
    "Another limitation of PCA is that the resulting vectors from a PCA transformation are often quite dense. What this means, is that many of the values in the components are non-zero. From a mathematical perspective, this doesn't matter. However, from a computational perspective, having lots of zero elements in a vector allows us to use sparse representations and sparse computation. Sparse representations reduce the amount of space it takes to save data. As an example, consider the vector:\n",
    "\n",
    "    x = np.array([0, 0, 3, 9, 0, 0, 0, 0, 0, 0])\n",
    "    \n",
    "This vector has 10 values, of which 8 are zero. Storing the vector as above, with zeros, in memory, takes 10 chunks of memory (where a chunk is based on the data type, so likely it would be 32 bits). In contrast, we can *assume* values are zero, and just store the non-zero values, and where they sit on this vector. In pseudo code:\n",
    "\n",
    "    x is a vector with 10 spots, defaulting to zero\n",
    "    there is a 3 at index 2\n",
    "    there is a 9 at index 3\n",
    "    \n",
    "This means we can store this whole vector as something like (again, not real code):\n",
    "\n",
    "    x = sparse_vector([(3, 2), (9, 3)])\n",
    "    \n",
    "Just four numbers, resulting in a saving of 60% of the total memory. This idea also generalises well to higher dimensions (you just record the full co-ordinates). As you might suspect, the actual implementation will be more than 4 numbers, but the general pattern is roughly consistent with this analysis. In short, you should use sparse matrices if you expect more than 60% of the data to be zeros.\n",
    "\n",
    "Additionally, if you know that you are using sparse vectors and matrices, you can use specialised algorithms (both mathematical and computational) that take advantage of this fact. This type of algorithm takes *longer* for dense matrices, but *less time* for sparse matrices. For an example, see the [Sparse PCA](https://scikit-learn.org/stable/modules/generated/sklearn.decomposition.SparsePCA.html)\n",
    "\n",
    "\n",
    "#### Exercises\n",
    "\n",
    "1. Run a SparsePCA, RandomizedPCA and (normal) PCA analysis on some data, and compare the explained variance ratio graphs for each.\n",
    "2. Rerun the same analysis on a *very large* dataset, while profiling the result. You can time how long code takes in a Jupyter notebook using the `%time` command:"
   ]
  },
  {
   "cell_type": "code",
   "execution_count": 12,
   "metadata": {},
   "outputs": [],
   "source": [
    "# Generate test data\n",
    "np.random.seed(1)\n",
    "NDIMS = 50\n",
    "X = np.dot(np.random.random(size=(NDIMS, NDIMS)), np.random.normal(size=(NDIMS, 1000))).T"
   ]
  },
  {
   "cell_type": "code",
   "execution_count": 19,
   "metadata": {},
   "outputs": [
    {
     "name": "stdout",
     "output_type": "stream",
     "text": [
      "CPU times: user 69.9 ms, sys: 79.1 ms, total: 149 ms\n",
      "Wall time: 11 ms\n",
      "CPU times: user 1min 7s, sys: 2min 16s, total: 3min 24s\n",
      "Wall time: 13.3 s\n",
      "CPU times: user 720 ms, sys: 301 ms, total: 1.02 s\n",
      "Wall time: 63.8 ms\n"
     ]
    },
    {
     "data": {
      "text/plain": [
       "<matplotlib.legend.Legend at 0x7fe585e12450>"
      ]
     },
     "execution_count": 19,
     "metadata": {},
     "output_type": "execute_result"
    },
    {
     "data": {
      "image/png": "[encoded data removed]",
      "text/plain": [
       "<Figure size 640x480 with 1 Axes>"
      ]
     },
     "metadata": {},
     "output_type": "display_data"
    }
   ],
   "source": [
    "from sklearn.decomposition import PCA\n",
    "from sklearn.decomposition import SparsePCA\n",
    "\n",
    "pca = PCA(n_components=NDIMS)\n",
    "%time pca.fit(X)\n",
    "\n",
    "sparce_pca = SparsePCA(n_components=NDIMS)\n",
    "%time sparce_pca.fit(X)\n",
    "# Explained Variance doesn't make full sense for sparse PCA https://github.com/scikit-learn/scikit-learn/issues/11512\n",
    "sparce_pca_explained_variance = []\n",
    "\n",
    "for n in range(1,NDIMS):\n",
    "    sparce_pca = SparsePCA(n_components=n)\n",
    "    sparce_pca.fit(X)\n",
    "    P = sparce_pca.components_.T  # loadings\n",
    "    T = sparce_pca.transform(X)  # score\n",
    "    Xc = X - X.mean(axis=0)  # center data\n",
    "\n",
    "    explained_variance = np.trace(P @ T.T @ T @ P.T)\n",
    "    total_variance = np.trace(Xc.T @ Xc)\n",
    "    sparce_pca_explained_variance.append(explained_variance / total_variance)\n",
    "\n",
    "sparce_pca_explained_variance = np.array(sparce_pca_explained_variance)\n",
    "\n",
    "randomized_pca = PCA(n_components=NDIMS, svd_solver='randomized')\n",
    "%time randomized_pca.fit(X)\n",
    "\n",
    "fig, ax = plt.subplots()\n",
    "ax.plot(np.cumsum(pca.explained_variance_ratio_), label=\"PCA\")\n",
    "ax.plot(sparce_pca_explained_variance, label=\"Sparse PCA\")\n",
    "ax.plot(np.cumsum(randomized_pca.explained_variance_ratio_), label=\"Randomized PCA\")\n",
    "ax.legend()\n"
   ]
  },
  {
   "cell_type": "code",
   "execution_count": 4,
   "metadata": {},
   "outputs": [],
   "source": [
    "import time\n",
    "\n",
    "def my_function():\n",
    "    # A function that takes a while to compute. On my computer, about 11 seconds\n",
    "    time.sleep(1)\n",
    "    j = 0\n",
    "    for i in range(int(10e7)):\n",
    "        j += i"
   ]
  },
  {
   "cell_type": "code",
   "execution_count": 5,
   "metadata": {},
   "outputs": [
    {
     "name": "stdout",
     "output_type": "stream",
     "text": [
      "Wall time: 5.54 s\n"
     ]
    }
   ],
   "source": [
    "%time my_function()"
   ]
  },
  {
   "attachments": {},
   "cell_type": "markdown",
   "metadata": {},
   "source": [
    "### Orthogonal representations\n",
    "\n",
    "A mathematical limit of PCA is that it relies on orthogonal transformations of the data. That means that every component will be orthogonal to each other.\n",
    "\n",
    "This is a good \"rule of thumb\" that works well for many datasets, but there are lots of datasets for which this type of transformation doesn't really help. For instance, consider this dataset, created from two different underlying models:"
   ]
  },
  {
   "cell_type": "code",
   "execution_count": 2,
   "metadata": {},
   "outputs": [],
   "source": [
    "x_part_1 = np.arange(100) * 3 + 4 + np.random.random(100) * 50\n",
    "x_part_2 = np.arange(100) * 1.1 - 2 + np.random.random(100) * 60"
   ]
  },
  {
   "cell_type": "code",
   "execution_count": 3,
   "metadata": {},
   "outputs": [
    {
     "data": {
      "text/plain": [
       "[<matplotlib.lines.Line2D at 0x7fedadf7ffd0>]"
      ]
     },
     "execution_count": 3,
     "metadata": {},
     "output_type": "execute_result"
    },
    {
     "data": {
      "image/png": "[encoded data removed]",
      "text/plain": [
       "<Figure size 640x480 with 1 Axes>"
      ]
     },
     "metadata": {},
     "output_type": "display_data"
    }
   ],
   "source": [
    "plt.plot(x_part_1, 'ro')\n",
    "plt.plot(x_part_2, 'bo')"
   ]
  },
  {
   "attachments": {},
   "cell_type": "markdown",
   "metadata": {},
   "source": [
    "In the above dataset, the best transformations would be the lines $3x + 4$ and $1.1x - 2$. However, PCA wouldn't find these lines. It would find the singular line-of-best-fit, and then the best line orthogonal to it:"
   ]
  },
  {
   "cell_type": "code",
   "execution_count": 4,
   "metadata": {},
   "outputs": [
    {
     "data": {
      "text/plain": [
       "(200, 2)"
      ]
     },
     "execution_count": 4,
     "metadata": {},
     "output_type": "execute_result"
    }
   ],
   "source": [
    "y_data = np.hstack([x_part_1, x_part_2])\n",
    "x_data = np.hstack([np.arange(100), np.arange(100)])\n",
    "X = np.vstack([x_data, y_data]).T\n",
    "X.shape"
   ]
  },
  {
   "cell_type": "code",
   "execution_count": 5,
   "metadata": {},
   "outputs": [
    {
     "data": {
      "text/html": [
       "<style>#sk-container-id-1 {color: black;background-color: white;}#sk-container-id-1 pre{padding: 0;}#sk-container-id-1 div.sk-toggleable {background-color: white;}#sk-container-id-1 label.sk-toggleable__label {cursor: pointer;display: block;width: 100%;margin-bottom: 0;padding: 0.3em;box-sizing: border-box;text-align: center;}#sk-container-id-1 label.sk-toggleable__label-arrow:before {content: \"▸\";float: left;margin-right: 0.25em;color: #696969;}#sk-container-id-1 label.sk-toggleable__label-arrow:hover:before {color: black;}#sk-container-id-1 div.sk-estimator:hover label.sk-toggleable__label-arrow:before {color: black;}#sk-container-id-1 div.sk-toggleable__content {max-height: 0;max-width: 0;overflow: hidden;text-align: left;background-color: #f0f8ff;}#sk-container-id-1 div.sk-toggleable__content pre {margin: 0.2em;color: black;border-radius: 0.25em;background-color: #f0f8ff;}#sk-container-id-1 input.sk-toggleable__control:checked~div.sk-toggleable__content {max-height: 200px;max-width: 100%;overflow: auto;}#sk-container-id-1 input.sk-toggleable__control:checked~label.sk-toggleable__label-arrow:before {content: \"▾\";}#sk-container-id-1 div.sk-estimator input.sk-toggleable__control:checked~label.sk-toggleable__label {background-color: #d4ebff;}#sk-container-id-1 div.sk-label input.sk-toggleable__control:checked~label.sk-toggleable__label {background-color: #d4ebff;}#sk-container-id-1 input.sk-hidden--visually {border: 0;clip: rect(1px 1px 1px 1px);clip: rect(1px, 1px, 1px, 1px);height: 1px;margin: -1px;overflow: hidden;padding: 0;position: absolute;width: 1px;}#sk-container-id-1 div.sk-estimator {font-family: monospace;background-color: #f0f8ff;border: 1px dotted black;border-radius: 0.25em;box-sizing: border-box;margin-bottom: 0.5em;}#sk-container-id-1 div.sk-estimator:hover {background-color: #d4ebff;}#sk-container-id-1 div.sk-parallel-item::after {content: \"\";width: 100%;border-bottom: 1px solid gray;flex-grow: 1;}#sk-container-id-1 div.sk-label:hover label.sk-toggleable__label {background-color: #d4ebff;}#sk-container-id-1 div.sk-serial::before {content: \"\";position: absolute;border-left: 1px solid gray;box-sizing: border-box;top: 0;bottom: 0;left: 50%;z-index: 0;}#sk-container-id-1 div.sk-serial {display: flex;flex-direction: column;align-items: center;background-color: white;padding-right: 0.2em;padding-left: 0.2em;position: relative;}#sk-container-id-1 div.sk-item {position: relative;z-index: 1;}#sk-container-id-1 div.sk-parallel {display: flex;align-items: stretch;justify-content: center;background-color: white;position: relative;}#sk-container-id-1 div.sk-item::before, #sk-container-id-1 div.sk-parallel-item::before {content: \"\";position: absolute;border-left: 1px solid gray;box-sizing: border-box;top: 0;bottom: 0;left: 50%;z-index: -1;}#sk-container-id-1 div.sk-parallel-item {display: flex;flex-direction: column;z-index: 1;position: relative;background-color: white;}#sk-container-id-1 div.sk-parallel-item:first-child::after {align-self: flex-end;width: 50%;}#sk-container-id-1 div.sk-parallel-item:last-child::after {align-self: flex-start;width: 50%;}#sk-container-id-1 div.sk-parallel-item:only-child::after {width: 0;}#sk-container-id-1 div.sk-dashed-wrapped {border: 1px dashed gray;margin: 0 0.4em 0.5em 0.4em;box-sizing: border-box;padding-bottom: 0.4em;background-color: white;}#sk-container-id-1 div.sk-label label {font-family: monospace;font-weight: bold;display: inline-block;line-height: 1.2em;}#sk-container-id-1 div.sk-label-container {text-align: center;}#sk-container-id-1 div.sk-container {/* jupyter's `normalize.less` sets `[hidden] { display: none; }` but bootstrap.min.css set `[hidden] { display: none !important; }` so we also need the `!important` here to be able to override the default hidden behavior on the sphinx rendered scikit-learn.org. See: https://github.com/scikit-learn/scikit-learn/issues/21755 */display: inline-block !important;position: relative;}#sk-container-id-1 div.sk-text-repr-fallback {display: none;}</style><div id=\"sk-container-id-1\" class=\"sk-top-container\"><div class=\"sk-text-repr-fallback\"><pre>PCA(n_components=2)</pre><b>In a Jupyter environment, please rerun this cell to show the HTML representation or trust the notebook. <br />On GitHub, the HTML representation is unable to render, please try loading this page with nbviewer.org.</b></div><div class=\"sk-container\" hidden><div class=\"sk-item\"><div class=\"sk-estimator sk-toggleable\"><input class=\"sk-toggleable__control sk-hidden--visually\" id=\"sk-estimator-id-1\" type=\"checkbox\" checked><label for=\"sk-estimator-id-1\" class=\"sk-toggleable__label sk-toggleable__label-arrow\">PCA</label><div class=\"sk-toggleable__content\"><pre>PCA(n_components=2)</pre></div></div></div></div></div>"
      ],
      "text/plain": [
       "PCA(n_components=2)"
      ]
     },
     "execution_count": 5,
     "metadata": {},
     "output_type": "execute_result"
    }
   ],
   "source": [
    "from sklearn.decomposition import PCA\n",
    "parts_PCA = PCA(n_components=2)\n",
    "parts_PCA.fit(X)"
   ]
  },
  {
   "cell_type": "code",
   "execution_count": 6,
   "metadata": {},
   "outputs": [
    {
     "data": {
      "text/plain": [
       "array([[ 0.2597897 ,  0.96566522],\n",
       "       [ 0.96566522, -0.2597897 ]])"
      ]
     },
     "execution_count": 6,
     "metadata": {},
     "output_type": "execute_result"
    }
   ],
   "source": [
    "parts_PCA.components_"
   ]
  },
  {
   "cell_type": "code",
   "execution_count": 7,
   "metadata": {},
   "outputs": [
    {
     "data": {
      "image/png": "[encoded data removed]",
      "text/plain": [
       "<Figure size 640x480 with 1 Axes>"
      ]
     },
     "metadata": {},
     "output_type": "display_data"
    }
   ],
   "source": [
    "plt.plot(X[:, 0], X[:, 1], 'o', alpha=0.5)\n",
    "for length, vector in zip(parts_PCA.explained_variance_, parts_PCA.components_):\n",
    "    v = vector * 3 * np.sqrt(length)  # The \"3\" just scales so the graph looks good\n",
    "    plt.plot([0, v[0]], [0, v[1]], '-k', lw=3)\n",
    "plt.axis('equal');"
   ]
  },
  {
   "attachments": {},
   "cell_type": "markdown",
   "metadata": {},
   "source": [
    "Here, the line of best fit for the dots in blue above aren't represented well by this transformation. Instead, you can use other Factor analysis methods to find this type of transformation."
   ]
  },
  {
   "attachments": {},
   "cell_type": "markdown",
   "metadata": {},
   "source": [
    "### Variance isn't everything\n",
    "\n",
    "PCA also assumes that the mean and covariance matrices effectively describe the dataset. Many datasets do not following this fact. If your distribution isn't effectively describe with a combination of a mean and variance value, then PCA is not going to give you a useful representation of your data. As an example, a Gaussian distribution is *only* defined by its mean and variance. Many distributions have more parameters.\n",
    "\n",
    "Despite this, even if a distribution can't be described with just a mean and variance, a PCA may still provide a useful result.\n",
    "\n",
    "Further to the above, PCA also assumes that *explaining the variance explains the data*. This is a consequence also that PCA is **scale variant**, which causes numbers with higher values and variances to be considered more important than numbers with lower values, even if those lower values are actually more important in the data. A common fix for this is to compute $z-scores$ for each variable, and then compute the PCA on the resulting Z scores instead.\n",
    "\n",
    "\n",
    "### A Linear Assumption\n",
    "\n",
    "PCA also assumes that the best way of looking at your data is as a linear combination of each other. Many relationships have more complicated relationships (log transformations, polynomial, exponent), and PCA cannot account for this."
   ]
  },
  {
   "attachments": {},
   "cell_type": "markdown",
   "metadata": {},
   "source": [
    "#### Extended Exercise\n",
    "\n",
    "Download the Quandl dataset \"Capital Market Yields – Government Bonds - Daily\" from Quandl (code `RBA/F02`), compute the change in value per row (diff), and then perform the following steps:\n",
    "\n",
    "1. Split the data into a training set and a testing set. The test set contains the last row of the data. The training set contains all the previous data.\n",
    "2. *With only the training dataset*, fit a PCA model and extract the principle components\n",
    "3. How many principle components are needed to fit at least 99% of the variance in the data?\n",
    "4. Fit a OLS estimator on the lagged data, *for each principle component*. I explain this further below.\n",
    "5. Project the data into the test period, by taking the bias and coefficients of the OLS and predicting the next values.\n",
    "6. Map the projections onto the original data space, by taking the PCA's inverse, to get the actual predicted values\n",
    "7. Calculate the sum of squared error for your predictions.\n",
    "\n",
    "\n",
    "\n",
    "In step 4 above, I ask that we fit an OLS on each principle component. If we have a principle component $C$, we want to use the value $c_{n-1}$ to predict the value $c_{n}$ using the linear equation $c_n = \\beta_0 + \\beta_1 c_{n-1}$. In other words, we fit a linear model saying \"given the a value of this variable in a time series, what is the next value?\". This type of analysis, moving average, will be reviewed further in a future notebook (1.6.1). \n",
    "\n",
    "Solution is in `solutions/PCA Application Example Solution.ipynb`"
   ]
  },
  {
   "cell_type": "code",
   "execution_count": 20,
   "metadata": {},
   "outputs": [],
   "source": [
    "import quandl\n",
    "CMYGB = quandl.get(\"RBA/F02\")"
   ]
  },
  {
   "cell_type": "code",
   "execution_count": 121,
   "metadata": {},
   "outputs": [
    {
     "data": {
      "text/html": [
       "<div>\n",
       "<style scoped>\n",
       "    .dataframe tbody tr th:only-of-type {\n",
       "        vertical-align: middle;\n",
       "    }\n",
       "\n",
       "    .dataframe tbody tr th {\n",
       "        vertical-align: top;\n",
       "    }\n",
       "\n",
       "    .dataframe thead th {\n",
       "        text-align: right;\n",
       "    }\n",
       "</style>\n",
       "<table border=\"1\" class=\"dataframe\">\n",
       "  <thead>\n",
       "    <tr style=\"text-align: right;\">\n",
       "      <th></th>\n",
       "      <th>Australian Government 2 year bond. Units: Per cent per annum; Series ID: FCMYGBAG2D</th>\n",
       "      <th>Australian Government 3 year bond. Units: Per cent per annum; Series ID: FCMYGBAG3D</th>\n",
       "      <th>Australian Government 5 year bond. Units: Per cent per annum; Series ID: FCMYGBAG5D</th>\n",
       "      <th>Australian Government 10 year bond. Units: Per cent per annum; Series ID: FCMYGBAG10D</th>\n",
       "      <th>Australian Government Indexed Bond. Units: Per cent per annum; Series ID: FCMYGBAGID</th>\n",
       "      <th>NSW Treasury Corporation 3 year bond. Units: Per cent per annum; Series ID: FCMYGBNT3D</th>\n",
       "      <th>NSW Treasury Corporation 5 year bond. Units: Per cent per annum; Series ID: FCMYGBNT5D</th>\n",
       "      <th>NSW Treasury Corporation 10 year bond. Units: Per cent per annum; Series ID: FCMYGBNT10D</th>\n",
       "    </tr>\n",
       "    <tr>\n",
       "      <th>Date</th>\n",
       "      <th></th>\n",
       "      <th></th>\n",
       "      <th></th>\n",
       "      <th></th>\n",
       "      <th></th>\n",
       "      <th></th>\n",
       "      <th></th>\n",
       "      <th></th>\n",
       "    </tr>\n",
       "  </thead>\n",
       "  <tbody>\n",
       "    <tr>\n",
       "      <th>2013-05-20</th>\n",
       "      <td>2.480</td>\n",
       "      <td>2.530</td>\n",
       "      <td>2.760</td>\n",
       "      <td>3.220</td>\n",
       "      <td>1.050</td>\n",
       "      <td>2.896768</td>\n",
       "      <td>3.249395</td>\n",
       "      <td>3.9525</td>\n",
       "    </tr>\n",
       "    <tr>\n",
       "      <th>2013-05-21</th>\n",
       "      <td>2.520</td>\n",
       "      <td>2.570</td>\n",
       "      <td>2.795</td>\n",
       "      <td>3.255</td>\n",
       "      <td>1.050</td>\n",
       "      <td>2.939367</td>\n",
       "      <td>3.288894</td>\n",
       "      <td>3.9860</td>\n",
       "    </tr>\n",
       "    <tr>\n",
       "      <th>2013-05-22</th>\n",
       "      <td>2.535</td>\n",
       "      <td>2.580</td>\n",
       "      <td>2.805</td>\n",
       "      <td>3.265</td>\n",
       "      <td>1.075</td>\n",
       "      <td>2.954646</td>\n",
       "      <td>3.303860</td>\n",
       "      <td>3.9993</td>\n",
       "    </tr>\n",
       "    <tr>\n",
       "      <th>2013-05-23</th>\n",
       "      <td>2.530</td>\n",
       "      <td>2.585</td>\n",
       "      <td>2.825</td>\n",
       "      <td>3.295</td>\n",
       "      <td>1.100</td>\n",
       "      <td>2.954962</td>\n",
       "      <td>3.310891</td>\n",
       "      <td>4.0256</td>\n",
       "    </tr>\n",
       "    <tr>\n",
       "      <th>2013-05-24</th>\n",
       "      <td>2.540</td>\n",
       "      <td>2.595</td>\n",
       "      <td>2.840</td>\n",
       "      <td>3.310</td>\n",
       "      <td>1.105</td>\n",
       "      <td>2.973280</td>\n",
       "      <td>3.334475</td>\n",
       "      <td>4.0450</td>\n",
       "    </tr>\n",
       "  </tbody>\n",
       "</table>\n",
       "</div>"
      ],
      "text/plain": [
       "            Australian Government 2 year bond. Units: Per cent per annum; Series ID: FCMYGBAG2D  \\\n",
       "Date                                                                                              \n",
       "2013-05-20                                              2.480                                     \n",
       "2013-05-21                                              2.520                                     \n",
       "2013-05-22                                              2.535                                     \n",
       "2013-05-23                                              2.530                                     \n",
       "2013-05-24                                              2.540                                     \n",
       "\n",
       "            Australian Government 3 year bond. Units: Per cent per annum; Series ID: FCMYGBAG3D  \\\n",
       "Date                                                                                              \n",
       "2013-05-20                                              2.530                                     \n",
       "2013-05-21                                              2.570                                     \n",
       "2013-05-22                                              2.580                                     \n",
       "2013-05-23                                              2.585                                     \n",
       "2013-05-24                                              2.595                                     \n",
       "\n",
       "            Australian Government 5 year bond. Units: Per cent per annum; Series ID: FCMYGBAG5D  \\\n",
       "Date                                                                                              \n",
       "2013-05-20                                              2.760                                     \n",
       "2013-05-21                                              2.795                                     \n",
       "2013-05-22                                              2.805                                     \n",
       "2013-05-23                                              2.825                                     \n",
       "2013-05-24                                              2.840                                     \n",
       "\n",
       "            Australian Government 10 year bond. Units: Per cent per annum; Series ID: FCMYGBAG10D  \\\n",
       "Date                                                                                                \n",
       "2013-05-20                                              3.220                                       \n",
       "2013-05-21                                              3.255                                       \n",
       "2013-05-22                                              3.265                                       \n",
       "2013-05-23                                              3.295                                       \n",
       "2013-05-24                                              3.310                                       \n",
       "\n",
       "            Australian Government Indexed Bond. Units: Per cent per annum; Series ID: FCMYGBAGID  \\\n",
       "Date                                                                                               \n",
       "2013-05-20                                              1.050                                      \n",
       "2013-05-21                                              1.050                                      \n",
       "2013-05-22                                              1.075                                      \n",
       "2013-05-23                                              1.100                                      \n",
       "2013-05-24                                              1.105                                      \n",
       "\n",
       "            NSW Treasury Corporation 3 year bond. Units: Per cent per annum; Series ID: FCMYGBNT3D  \\\n",
       "Date                                                                                                 \n",
       "2013-05-20                                           2.896768                                        \n",
       "2013-05-21                                           2.939367                                        \n",
       "2013-05-22                                           2.954646                                        \n",
       "2013-05-23                                           2.954962                                        \n",
       "2013-05-24                                           2.973280                                        \n",
       "\n",
       "            NSW Treasury Corporation 5 year bond. Units: Per cent per annum; Series ID: FCMYGBNT5D  \\\n",
       "Date                                                                                                 \n",
       "2013-05-20                                           3.249395                                        \n",
       "2013-05-21                                           3.288894                                        \n",
       "2013-05-22                                           3.303860                                        \n",
       "2013-05-23                                           3.310891                                        \n",
       "2013-05-24                                           3.334475                                        \n",
       "\n",
       "            NSW Treasury Corporation 10 year bond. Units: Per cent per annum; Series ID: FCMYGBNT10D  \n",
       "Date                                                                                                  \n",
       "2013-05-20                                             3.9525                                         \n",
       "2013-05-21                                             3.9860                                         \n",
       "2013-05-22                                             3.9993                                         \n",
       "2013-05-23                                             4.0256                                         \n",
       "2013-05-24                                             4.0450                                         "
      ]
     },
     "execution_count": 121,
     "metadata": {},
     "output_type": "execute_result"
    }
   ],
   "source": [
    "CMYGB.head()"
   ]
  },
  {
   "cell_type": "code",
   "execution_count": 289,
   "metadata": {},
   "outputs": [],
   "source": [
    "CMYGB_change = CMYGB.diff(1).dropna()"
   ]
  },
  {
   "cell_type": "code",
   "execution_count": 290,
   "metadata": {},
   "outputs": [
    {
     "data": {
      "text/html": [
       "<div>\n",
       "<style scoped>\n",
       "    .dataframe tbody tr th:only-of-type {\n",
       "        vertical-align: middle;\n",
       "    }\n",
       "\n",
       "    .dataframe tbody tr th {\n",
       "        vertical-align: top;\n",
       "    }\n",
       "\n",
       "    .dataframe thead th {\n",
       "        text-align: right;\n",
       "    }\n",
       "</style>\n",
       "<table border=\"1\" class=\"dataframe\">\n",
       "  <thead>\n",
       "    <tr style=\"text-align: right;\">\n",
       "      <th></th>\n",
       "      <th>Australian Government 2 year bond. Units: Per cent per annum; Series ID: FCMYGBAG2D</th>\n",
       "      <th>Australian Government 3 year bond. Units: Per cent per annum; Series ID: FCMYGBAG3D</th>\n",
       "      <th>Australian Government 5 year bond. Units: Per cent per annum; Series ID: FCMYGBAG5D</th>\n",
       "      <th>Australian Government 10 year bond. Units: Per cent per annum; Series ID: FCMYGBAG10D</th>\n",
       "      <th>Australian Government Indexed Bond. Units: Per cent per annum; Series ID: FCMYGBAGID</th>\n",
       "      <th>NSW Treasury Corporation 3 year bond. Units: Per cent per annum; Series ID: FCMYGBNT3D</th>\n",
       "      <th>NSW Treasury Corporation 5 year bond. Units: Per cent per annum; Series ID: FCMYGBNT5D</th>\n",
       "      <th>NSW Treasury Corporation 10 year bond. Units: Per cent per annum; Series ID: FCMYGBNT10D</th>\n",
       "    </tr>\n",
       "    <tr>\n",
       "      <th>Date</th>\n",
       "      <th></th>\n",
       "      <th></th>\n",
       "      <th></th>\n",
       "      <th></th>\n",
       "      <th></th>\n",
       "      <th></th>\n",
       "      <th></th>\n",
       "      <th></th>\n",
       "    </tr>\n",
       "  </thead>\n",
       "  <tbody>\n",
       "    <tr>\n",
       "      <th>2013-05-21</th>\n",
       "      <td>0.040</td>\n",
       "      <td>0.040</td>\n",
       "      <td>0.035</td>\n",
       "      <td>0.035</td>\n",
       "      <td>0.000</td>\n",
       "      <td>0.042599</td>\n",
       "      <td>0.039499</td>\n",
       "      <td>0.0335</td>\n",
       "    </tr>\n",
       "    <tr>\n",
       "      <th>2013-05-22</th>\n",
       "      <td>0.015</td>\n",
       "      <td>0.010</td>\n",
       "      <td>0.010</td>\n",
       "      <td>0.010</td>\n",
       "      <td>0.025</td>\n",
       "      <td>0.015279</td>\n",
       "      <td>0.014966</td>\n",
       "      <td>0.0133</td>\n",
       "    </tr>\n",
       "    <tr>\n",
       "      <th>2013-05-23</th>\n",
       "      <td>-0.005</td>\n",
       "      <td>0.005</td>\n",
       "      <td>0.020</td>\n",
       "      <td>0.030</td>\n",
       "      <td>0.025</td>\n",
       "      <td>0.000315</td>\n",
       "      <td>0.007031</td>\n",
       "      <td>0.0263</td>\n",
       "    </tr>\n",
       "    <tr>\n",
       "      <th>2013-05-24</th>\n",
       "      <td>0.010</td>\n",
       "      <td>0.010</td>\n",
       "      <td>0.015</td>\n",
       "      <td>0.015</td>\n",
       "      <td>0.005</td>\n",
       "      <td>0.018318</td>\n",
       "      <td>0.023584</td>\n",
       "      <td>0.0194</td>\n",
       "    </tr>\n",
       "    <tr>\n",
       "      <th>2013-05-27</th>\n",
       "      <td>-0.030</td>\n",
       "      <td>-0.030</td>\n",
       "      <td>-0.035</td>\n",
       "      <td>-0.040</td>\n",
       "      <td>-0.025</td>\n",
       "      <td>-0.028172</td>\n",
       "      <td>-0.027639</td>\n",
       "      <td>-0.0272</td>\n",
       "    </tr>\n",
       "  </tbody>\n",
       "</table>\n",
       "</div>"
      ],
      "text/plain": [
       "            Australian Government 2 year bond. Units: Per cent per annum; Series ID: FCMYGBAG2D  \\\n",
       "Date                                                                                              \n",
       "2013-05-21                                              0.040                                     \n",
       "2013-05-22                                              0.015                                     \n",
       "2013-05-23                                             -0.005                                     \n",
       "2013-05-24                                              0.010                                     \n",
       "2013-05-27                                             -0.030                                     \n",
       "\n",
       "            Australian Government 3 year bond. Units: Per cent per annum; Series ID: FCMYGBAG3D  \\\n",
       "Date                                                                                              \n",
       "2013-05-21                                              0.040                                     \n",
       "2013-05-22                                              0.010                                     \n",
       "2013-05-23                                              0.005                                     \n",
       "2013-05-24                                              0.010                                     \n",
       "2013-05-27                                             -0.030                                     \n",
       "\n",
       "            Australian Government 5 year bond. Units: Per cent per annum; Series ID: FCMYGBAG5D  \\\n",
       "Date                                                                                              \n",
       "2013-05-21                                              0.035                                     \n",
       "2013-05-22                                              0.010                                     \n",
       "2013-05-23                                              0.020                                     \n",
       "2013-05-24                                              0.015                                     \n",
       "2013-05-27                                             -0.035                                     \n",
       "\n",
       "            Australian Government 10 year bond. Units: Per cent per annum; Series ID: FCMYGBAG10D  \\\n",
       "Date                                                                                                \n",
       "2013-05-21                                              0.035                                       \n",
       "2013-05-22                                              0.010                                       \n",
       "2013-05-23                                              0.030                                       \n",
       "2013-05-24                                              0.015                                       \n",
       "2013-05-27                                             -0.040                                       \n",
       "\n",
       "            Australian Government Indexed Bond. Units: Per cent per annum; Series ID: FCMYGBAGID  \\\n",
       "Date                                                                                               \n",
       "2013-05-21                                              0.000                                      \n",
       "2013-05-22                                              0.025                                      \n",
       "2013-05-23                                              0.025                                      \n",
       "2013-05-24                                              0.005                                      \n",
       "2013-05-27                                             -0.025                                      \n",
       "\n",
       "            NSW Treasury Corporation 3 year bond. Units: Per cent per annum; Series ID: FCMYGBNT3D  \\\n",
       "Date                                                                                                 \n",
       "2013-05-21                                           0.042599                                        \n",
       "2013-05-22                                           0.015279                                        \n",
       "2013-05-23                                           0.000315                                        \n",
       "2013-05-24                                           0.018318                                        \n",
       "2013-05-27                                          -0.028172                                        \n",
       "\n",
       "            NSW Treasury Corporation 5 year bond. Units: Per cent per annum; Series ID: FCMYGBNT5D  \\\n",
       "Date                                                                                                 \n",
       "2013-05-21                                           0.039499                                        \n",
       "2013-05-22                                           0.014966                                        \n",
       "2013-05-23                                           0.007031                                        \n",
       "2013-05-24                                           0.023584                                        \n",
       "2013-05-27                                          -0.027639                                        \n",
       "\n",
       "            NSW Treasury Corporation 10 year bond. Units: Per cent per annum; Series ID: FCMYGBNT10D  \n",
       "Date                                                                                                  \n",
       "2013-05-21                                             0.0335                                         \n",
       "2013-05-22                                             0.0133                                         \n",
       "2013-05-23                                             0.0263                                         \n",
       "2013-05-24                                             0.0194                                         \n",
       "2013-05-27                                            -0.0272                                         "
      ]
     },
     "execution_count": 290,
     "metadata": {},
     "output_type": "execute_result"
    }
   ],
   "source": [
    "CMYGB_change.head()"
   ]
  },
  {
   "cell_type": "code",
   "execution_count": 291,
   "metadata": {},
   "outputs": [],
   "source": [
    "from sklearn.model_selection import TimeSeriesSplit\n",
    "\n",
    "tscv = TimeSeriesSplit(n_splits=2, test_size=1)"
   ]
  },
  {
   "cell_type": "code",
   "execution_count": 292,
   "metadata": {},
   "outputs": [],
   "source": [
    "# Just use the final split which stores the final datapoint as test data.\n",
    "train_index, test_index = list(tscv.split(CMYGB_change))[-1]\n",
    "X_train = CMYGB_change.iloc[train_index]\n",
    "X_test = CMYGB_change.iloc[test_index]"
   ]
  },
  {
   "cell_type": "code",
   "execution_count": 293,
   "metadata": {},
   "outputs": [
    {
     "data": {
      "text/html": [
       "<div>\n",
       "<style scoped>\n",
       "    .dataframe tbody tr th:only-of-type {\n",
       "        vertical-align: middle;\n",
       "    }\n",
       "\n",
       "    .dataframe tbody tr th {\n",
       "        vertical-align: top;\n",
       "    }\n",
       "\n",
       "    .dataframe thead th {\n",
       "        text-align: right;\n",
       "    }\n",
       "</style>\n",
       "<table border=\"1\" class=\"dataframe\">\n",
       "  <thead>\n",
       "    <tr style=\"text-align: right;\">\n",
       "      <th></th>\n",
       "      <th>Australian Government 2 year bond. Units: Per cent per annum; Series ID: FCMYGBAG2D</th>\n",
       "      <th>Australian Government 3 year bond. Units: Per cent per annum; Series ID: FCMYGBAG3D</th>\n",
       "      <th>Australian Government 5 year bond. Units: Per cent per annum; Series ID: FCMYGBAG5D</th>\n",
       "      <th>Australian Government 10 year bond. Units: Per cent per annum; Series ID: FCMYGBAG10D</th>\n",
       "      <th>Australian Government Indexed Bond. Units: Per cent per annum; Series ID: FCMYGBAGID</th>\n",
       "      <th>NSW Treasury Corporation 3 year bond. Units: Per cent per annum; Series ID: FCMYGBNT3D</th>\n",
       "      <th>NSW Treasury Corporation 5 year bond. Units: Per cent per annum; Series ID: FCMYGBNT5D</th>\n",
       "      <th>NSW Treasury Corporation 10 year bond. Units: Per cent per annum; Series ID: FCMYGBNT10D</th>\n",
       "    </tr>\n",
       "    <tr>\n",
       "      <th>Date</th>\n",
       "      <th></th>\n",
       "      <th></th>\n",
       "      <th></th>\n",
       "      <th></th>\n",
       "      <th></th>\n",
       "      <th></th>\n",
       "      <th></th>\n",
       "      <th></th>\n",
       "    </tr>\n",
       "  </thead>\n",
       "  <tbody>\n",
       "    <tr>\n",
       "      <th>2021-07-22</th>\n",
       "      <td>0.000</td>\n",
       "      <td>0.010</td>\n",
       "      <td>0.030</td>\n",
       "      <td>0.030</td>\n",
       "      <td>0.010</td>\n",
       "      <td>0.020</td>\n",
       "      <td>0.020</td>\n",
       "      <td>0.040</td>\n",
       "    </tr>\n",
       "    <tr>\n",
       "      <th>2021-07-23</th>\n",
       "      <td>0.000</td>\n",
       "      <td>0.000</td>\n",
       "      <td>0.005</td>\n",
       "      <td>0.005</td>\n",
       "      <td>0.000</td>\n",
       "      <td>-0.005</td>\n",
       "      <td>0.025</td>\n",
       "      <td>0.020</td>\n",
       "    </tr>\n",
       "    <tr>\n",
       "      <th>2021-07-26</th>\n",
       "      <td>0.005</td>\n",
       "      <td>0.005</td>\n",
       "      <td>-0.005</td>\n",
       "      <td>-0.015</td>\n",
       "      <td>-0.015</td>\n",
       "      <td>-0.005</td>\n",
       "      <td>-0.010</td>\n",
       "      <td>-0.010</td>\n",
       "    </tr>\n",
       "    <tr>\n",
       "      <th>2021-07-27</th>\n",
       "      <td>-0.005</td>\n",
       "      <td>0.000</td>\n",
       "      <td>0.005</td>\n",
       "      <td>0.030</td>\n",
       "      <td>0.010</td>\n",
       "      <td>0.005</td>\n",
       "      <td>-0.005</td>\n",
       "      <td>0.030</td>\n",
       "    </tr>\n",
       "    <tr>\n",
       "      <th>2021-07-28</th>\n",
       "      <td>-0.010</td>\n",
       "      <td>-0.010</td>\n",
       "      <td>-0.030</td>\n",
       "      <td>-0.055</td>\n",
       "      <td>0.005</td>\n",
       "      <td>-0.020</td>\n",
       "      <td>-0.030</td>\n",
       "      <td>-0.065</td>\n",
       "    </tr>\n",
       "  </tbody>\n",
       "</table>\n",
       "</div>"
      ],
      "text/plain": [
       "            Australian Government 2 year bond. Units: Per cent per annum; Series ID: FCMYGBAG2D  \\\n",
       "Date                                                                                              \n",
       "2021-07-22                                              0.000                                     \n",
       "2021-07-23                                              0.000                                     \n",
       "2021-07-26                                              0.005                                     \n",
       "2021-07-27                                             -0.005                                     \n",
       "2021-07-28                                             -0.010                                     \n",
       "\n",
       "            Australian Government 3 year bond. Units: Per cent per annum; Series ID: FCMYGBAG3D  \\\n",
       "Date                                                                                              \n",
       "2021-07-22                                              0.010                                     \n",
       "2021-07-23                                              0.000                                     \n",
       "2021-07-26                                              0.005                                     \n",
       "2021-07-27                                              0.000                                     \n",
       "2021-07-28                                             -0.010                                     \n",
       "\n",
       "            Australian Government 5 year bond. Units: Per cent per annum; Series ID: FCMYGBAG5D  \\\n",
       "Date                                                                                              \n",
       "2021-07-22                                              0.030                                     \n",
       "2021-07-23                                              0.005                                     \n",
       "2021-07-26                                             -0.005                                     \n",
       "2021-07-27                                              0.005                                     \n",
       "2021-07-28                                             -0.030                                     \n",
       "\n",
       "            Australian Government 10 year bond. Units: Per cent per annum; Series ID: FCMYGBAG10D  \\\n",
       "Date                                                                                                \n",
       "2021-07-22                                              0.030                                       \n",
       "2021-07-23                                              0.005                                       \n",
       "2021-07-26                                             -0.015                                       \n",
       "2021-07-27                                              0.030                                       \n",
       "2021-07-28                                             -0.055                                       \n",
       "\n",
       "            Australian Government Indexed Bond. Units: Per cent per annum; Series ID: FCMYGBAGID  \\\n",
       "Date                                                                                               \n",
       "2021-07-22                                              0.010                                      \n",
       "2021-07-23                                              0.000                                      \n",
       "2021-07-26                                             -0.015                                      \n",
       "2021-07-27                                              0.010                                      \n",
       "2021-07-28                                              0.005                                      \n",
       "\n",
       "            NSW Treasury Corporation 3 year bond. Units: Per cent per annum; Series ID: FCMYGBNT3D  \\\n",
       "Date                                                                                                 \n",
       "2021-07-22                                              0.020                                        \n",
       "2021-07-23                                             -0.005                                        \n",
       "2021-07-26                                             -0.005                                        \n",
       "2021-07-27                                              0.005                                        \n",
       "2021-07-28                                             -0.020                                        \n",
       "\n",
       "            NSW Treasury Corporation 5 year bond. Units: Per cent per annum; Series ID: FCMYGBNT5D  \\\n",
       "Date                                                                                                 \n",
       "2021-07-22                                              0.020                                        \n",
       "2021-07-23                                              0.025                                        \n",
       "2021-07-26                                             -0.010                                        \n",
       "2021-07-27                                             -0.005                                        \n",
       "2021-07-28                                             -0.030                                        \n",
       "\n",
       "            NSW Treasury Corporation 10 year bond. Units: Per cent per annum; Series ID: FCMYGBNT10D  \n",
       "Date                                                                                                  \n",
       "2021-07-22                                              0.040                                         \n",
       "2021-07-23                                              0.020                                         \n",
       "2021-07-26                                             -0.010                                         \n",
       "2021-07-27                                              0.030                                         \n",
       "2021-07-28                                             -0.065                                         "
      ]
     },
     "execution_count": 293,
     "metadata": {},
     "output_type": "execute_result"
    }
   ],
   "source": [
    "X_train.tail()"
   ]
  },
  {
   "cell_type": "code",
   "execution_count": 294,
   "metadata": {},
   "outputs": [
    {
     "data": {
      "text/html": [
       "<div>\n",
       "<style scoped>\n",
       "    .dataframe tbody tr th:only-of-type {\n",
       "        vertical-align: middle;\n",
       "    }\n",
       "\n",
       "    .dataframe tbody tr th {\n",
       "        vertical-align: top;\n",
       "    }\n",
       "\n",
       "    .dataframe thead th {\n",
       "        text-align: right;\n",
       "    }\n",
       "</style>\n",
       "<table border=\"1\" class=\"dataframe\">\n",
       "  <thead>\n",
       "    <tr style=\"text-align: right;\">\n",
       "      <th></th>\n",
       "      <th>Australian Government 2 year bond. Units: Per cent per annum; Series ID: FCMYGBAG2D</th>\n",
       "      <th>Australian Government 3 year bond. Units: Per cent per annum; Series ID: FCMYGBAG3D</th>\n",
       "      <th>Australian Government 5 year bond. Units: Per cent per annum; Series ID: FCMYGBAG5D</th>\n",
       "      <th>Australian Government 10 year bond. Units: Per cent per annum; Series ID: FCMYGBAG10D</th>\n",
       "      <th>Australian Government Indexed Bond. Units: Per cent per annum; Series ID: FCMYGBAGID</th>\n",
       "      <th>NSW Treasury Corporation 3 year bond. Units: Per cent per annum; Series ID: FCMYGBNT3D</th>\n",
       "      <th>NSW Treasury Corporation 5 year bond. Units: Per cent per annum; Series ID: FCMYGBNT5D</th>\n",
       "      <th>NSW Treasury Corporation 10 year bond. Units: Per cent per annum; Series ID: FCMYGBNT10D</th>\n",
       "    </tr>\n",
       "    <tr>\n",
       "      <th>Date</th>\n",
       "      <th></th>\n",
       "      <th></th>\n",
       "      <th></th>\n",
       "      <th></th>\n",
       "      <th></th>\n",
       "      <th></th>\n",
       "      <th></th>\n",
       "      <th></th>\n",
       "    </tr>\n",
       "  </thead>\n",
       "  <tbody>\n",
       "    <tr>\n",
       "      <th>2021-07-29</th>\n",
       "      <td>-0.005</td>\n",
       "      <td>-0.005</td>\n",
       "      <td>-0.005</td>\n",
       "      <td>0.0</td>\n",
       "      <td>0.01</td>\n",
       "      <td>-0.015</td>\n",
       "      <td>-0.02</td>\n",
       "      <td>0.005</td>\n",
       "    </tr>\n",
       "  </tbody>\n",
       "</table>\n",
       "</div>"
      ],
      "text/plain": [
       "            Australian Government 2 year bond. Units: Per cent per annum; Series ID: FCMYGBAG2D  \\\n",
       "Date                                                                                              \n",
       "2021-07-29                                             -0.005                                     \n",
       "\n",
       "            Australian Government 3 year bond. Units: Per cent per annum; Series ID: FCMYGBAG3D  \\\n",
       "Date                                                                                              \n",
       "2021-07-29                                             -0.005                                     \n",
       "\n",
       "            Australian Government 5 year bond. Units: Per cent per annum; Series ID: FCMYGBAG5D  \\\n",
       "Date                                                                                              \n",
       "2021-07-29                                             -0.005                                     \n",
       "\n",
       "            Australian Government 10 year bond. Units: Per cent per annum; Series ID: FCMYGBAG10D  \\\n",
       "Date                                                                                                \n",
       "2021-07-29                                                0.0                                       \n",
       "\n",
       "            Australian Government Indexed Bond. Units: Per cent per annum; Series ID: FCMYGBAGID  \\\n",
       "Date                                                                                               \n",
       "2021-07-29                                               0.01                                      \n",
       "\n",
       "            NSW Treasury Corporation 3 year bond. Units: Per cent per annum; Series ID: FCMYGBNT3D  \\\n",
       "Date                                                                                                 \n",
       "2021-07-29                                             -0.015                                        \n",
       "\n",
       "            NSW Treasury Corporation 5 year bond. Units: Per cent per annum; Series ID: FCMYGBNT5D  \\\n",
       "Date                                                                                                 \n",
       "2021-07-29                                              -0.02                                        \n",
       "\n",
       "            NSW Treasury Corporation 10 year bond. Units: Per cent per annum; Series ID: FCMYGBNT10D  \n",
       "Date                                                                                                  \n",
       "2021-07-29                                              0.005                                         "
      ]
     },
     "execution_count": 294,
     "metadata": {},
     "output_type": "execute_result"
    }
   ],
   "source": [
    "X_test.head()"
   ]
  },
  {
   "cell_type": "code",
   "execution_count": 295,
   "metadata": {},
   "outputs": [
    {
     "data": {
      "text/html": [
       "<style>#sk-container-id-10 {color: black;background-color: white;}#sk-container-id-10 pre{padding: 0;}#sk-container-id-10 div.sk-toggleable {background-color: white;}#sk-container-id-10 label.sk-toggleable__label {cursor: pointer;display: block;width: 100%;margin-bottom: 0;padding: 0.3em;box-sizing: border-box;text-align: center;}#sk-container-id-10 label.sk-toggleable__label-arrow:before {content: \"▸\";float: left;margin-right: 0.25em;color: #696969;}#sk-container-id-10 label.sk-toggleable__label-arrow:hover:before {color: black;}#sk-container-id-10 div.sk-estimator:hover label.sk-toggleable__label-arrow:before {color: black;}#sk-container-id-10 div.sk-toggleable__content {max-height: 0;max-width: 0;overflow: hidden;text-align: left;background-color: #f0f8ff;}#sk-container-id-10 div.sk-toggleable__content pre {margin: 0.2em;color: black;border-radius: 0.25em;background-color: #f0f8ff;}#sk-container-id-10 input.sk-toggleable__control:checked~div.sk-toggleable__content {max-height: 200px;max-width: 100%;overflow: auto;}#sk-container-id-10 input.sk-toggleable__control:checked~label.sk-toggleable__label-arrow:before {content: \"▾\";}#sk-container-id-10 div.sk-estimator input.sk-toggleable__control:checked~label.sk-toggleable__label {background-color: #d4ebff;}#sk-container-id-10 div.sk-label input.sk-toggleable__control:checked~label.sk-toggleable__label {background-color: #d4ebff;}#sk-container-id-10 input.sk-hidden--visually {border: 0;clip: rect(1px 1px 1px 1px);clip: rect(1px, 1px, 1px, 1px);height: 1px;margin: -1px;overflow: hidden;padding: 0;position: absolute;width: 1px;}#sk-container-id-10 div.sk-estimator {font-family: monospace;background-color: #f0f8ff;border: 1px dotted black;border-radius: 0.25em;box-sizing: border-box;margin-bottom: 0.5em;}#sk-container-id-10 div.sk-estimator:hover {background-color: #d4ebff;}#sk-container-id-10 div.sk-parallel-item::after {content: \"\";width: 100%;border-bottom: 1px solid gray;flex-grow: 1;}#sk-container-id-10 div.sk-label:hover label.sk-toggleable__label {background-color: #d4ebff;}#sk-container-id-10 div.sk-serial::before {content: \"\";position: absolute;border-left: 1px solid gray;box-sizing: border-box;top: 0;bottom: 0;left: 50%;z-index: 0;}#sk-container-id-10 div.sk-serial {display: flex;flex-direction: column;align-items: center;background-color: white;padding-right: 0.2em;padding-left: 0.2em;position: relative;}#sk-container-id-10 div.sk-item {position: relative;z-index: 1;}#sk-container-id-10 div.sk-parallel {display: flex;align-items: stretch;justify-content: center;background-color: white;position: relative;}#sk-container-id-10 div.sk-item::before, #sk-container-id-10 div.sk-parallel-item::before {content: \"\";position: absolute;border-left: 1px solid gray;box-sizing: border-box;top: 0;bottom: 0;left: 50%;z-index: -1;}#sk-container-id-10 div.sk-parallel-item {display: flex;flex-direction: column;z-index: 1;position: relative;background-color: white;}#sk-container-id-10 div.sk-parallel-item:first-child::after {align-self: flex-end;width: 50%;}#sk-container-id-10 div.sk-parallel-item:last-child::after {align-self: flex-start;width: 50%;}#sk-container-id-10 div.sk-parallel-item:only-child::after {width: 0;}#sk-container-id-10 div.sk-dashed-wrapped {border: 1px dashed gray;margin: 0 0.4em 0.5em 0.4em;box-sizing: border-box;padding-bottom: 0.4em;background-color: white;}#sk-container-id-10 div.sk-label label {font-family: monospace;font-weight: bold;display: inline-block;line-height: 1.2em;}#sk-container-id-10 div.sk-label-container {text-align: center;}#sk-container-id-10 div.sk-container {/* jupyter's `normalize.less` sets `[hidden] { display: none; }` but bootstrap.min.css set `[hidden] { display: none !important; }` so we also need the `!important` here to be able to override the default hidden behavior on the sphinx rendered scikit-learn.org. See: https://github.com/scikit-learn/scikit-learn/issues/21755 */display: inline-block !important;position: relative;}#sk-container-id-10 div.sk-text-repr-fallback {display: none;}</style><div id=\"sk-container-id-10\" class=\"sk-top-container\"><div class=\"sk-text-repr-fallback\"><pre>PCA()</pre><b>In a Jupyter environment, please rerun this cell to show the HTML representation or trust the notebook. <br />On GitHub, the HTML representation is unable to render, please try loading this page with nbviewer.org.</b></div><div class=\"sk-container\" hidden><div class=\"sk-item\"><div class=\"sk-estimator sk-toggleable\"><input class=\"sk-toggleable__control sk-hidden--visually\" id=\"sk-estimator-id-10\" type=\"checkbox\" checked><label for=\"sk-estimator-id-10\" class=\"sk-toggleable__label sk-toggleable__label-arrow\">PCA</label><div class=\"sk-toggleable__content\"><pre>PCA()</pre></div></div></div></div></div>"
      ],
      "text/plain": [
       "PCA()"
      ]
     },
     "execution_count": 295,
     "metadata": {},
     "output_type": "execute_result"
    }
   ],
   "source": [
    "from sklearn.decomposition import PCA\n",
    "\n",
    "pca = PCA()\n",
    "pca.fit(X_train)"
   ]
  },
  {
   "cell_type": "code",
   "execution_count": 296,
   "metadata": {},
   "outputs": [
    {
     "data": {
      "text/plain": [
       "array([0.86334705, 0.08549526, 0.03012957, 0.00884915, 0.00538987,\n",
       "       0.00341937, 0.00210719, 0.00126253])"
      ]
     },
     "execution_count": 296,
     "metadata": {},
     "output_type": "execute_result"
    }
   ],
   "source": [
    "pca.explained_variance_ratio_"
   ]
  },
  {
   "cell_type": "code",
   "execution_count": 297,
   "metadata": {},
   "outputs": [],
   "source": [
    "cum_explained_variance_ratio = np.cumsum(pca.explained_variance_ratio_)"
   ]
  },
  {
   "cell_type": "code",
   "execution_count": 298,
   "metadata": {},
   "outputs": [
    {
     "name": "stdout",
     "output_type": "stream",
     "text": [
      "Minimum number of components to fit at least 99% of variance of the data is 5, which explains 0.9932109076298279% of the variance.\n"
     ]
    }
   ],
   "source": [
    "# Minimum number of components to fit at least 99% of variance of the data:\n",
    "index = np.amin(np.where(cum_explained_variance_ratio > 0.99))\n",
    "print(f\"Minimum number of components to fit at least 99% of variance of the data is {index + 1}, which explains {cum_explained_variance_ratio[index]}% of the variance.\")"
   ]
  },
  {
   "cell_type": "code",
   "execution_count": 299,
   "metadata": {},
   "outputs": [
    {
     "data": {
      "text/html": [
       "<style>#sk-container-id-11 {color: black;background-color: white;}#sk-container-id-11 pre{padding: 0;}#sk-container-id-11 div.sk-toggleable {background-color: white;}#sk-container-id-11 label.sk-toggleable__label {cursor: pointer;display: block;width: 100%;margin-bottom: 0;padding: 0.3em;box-sizing: border-box;text-align: center;}#sk-container-id-11 label.sk-toggleable__label-arrow:before {content: \"▸\";float: left;margin-right: 0.25em;color: #696969;}#sk-container-id-11 label.sk-toggleable__label-arrow:hover:before {color: black;}#sk-container-id-11 div.sk-estimator:hover label.sk-toggleable__label-arrow:before {color: black;}#sk-container-id-11 div.sk-toggleable__content {max-height: 0;max-width: 0;overflow: hidden;text-align: left;background-color: #f0f8ff;}#sk-container-id-11 div.sk-toggleable__content pre {margin: 0.2em;color: black;border-radius: 0.25em;background-color: #f0f8ff;}#sk-container-id-11 input.sk-toggleable__control:checked~div.sk-toggleable__content {max-height: 200px;max-width: 100%;overflow: auto;}#sk-container-id-11 input.sk-toggleable__control:checked~label.sk-toggleable__label-arrow:before {content: \"▾\";}#sk-container-id-11 div.sk-estimator input.sk-toggleable__control:checked~label.sk-toggleable__label {background-color: #d4ebff;}#sk-container-id-11 div.sk-label input.sk-toggleable__control:checked~label.sk-toggleable__label {background-color: #d4ebff;}#sk-container-id-11 input.sk-hidden--visually {border: 0;clip: rect(1px 1px 1px 1px);clip: rect(1px, 1px, 1px, 1px);height: 1px;margin: -1px;overflow: hidden;padding: 0;position: absolute;width: 1px;}#sk-container-id-11 div.sk-estimator {font-family: monospace;background-color: #f0f8ff;border: 1px dotted black;border-radius: 0.25em;box-sizing: border-box;margin-bottom: 0.5em;}#sk-container-id-11 div.sk-estimator:hover {background-color: #d4ebff;}#sk-container-id-11 div.sk-parallel-item::after {content: \"\";width: 100%;border-bottom: 1px solid gray;flex-grow: 1;}#sk-container-id-11 div.sk-label:hover label.sk-toggleable__label {background-color: #d4ebff;}#sk-container-id-11 div.sk-serial::before {content: \"\";position: absolute;border-left: 1px solid gray;box-sizing: border-box;top: 0;bottom: 0;left: 50%;z-index: 0;}#sk-container-id-11 div.sk-serial {display: flex;flex-direction: column;align-items: center;background-color: white;padding-right: 0.2em;padding-left: 0.2em;position: relative;}#sk-container-id-11 div.sk-item {position: relative;z-index: 1;}#sk-container-id-11 div.sk-parallel {display: flex;align-items: stretch;justify-content: center;background-color: white;position: relative;}#sk-container-id-11 div.sk-item::before, #sk-container-id-11 div.sk-parallel-item::before {content: \"\";position: absolute;border-left: 1px solid gray;box-sizing: border-box;top: 0;bottom: 0;left: 50%;z-index: -1;}#sk-container-id-11 div.sk-parallel-item {display: flex;flex-direction: column;z-index: 1;position: relative;background-color: white;}#sk-container-id-11 div.sk-parallel-item:first-child::after {align-self: flex-end;width: 50%;}#sk-container-id-11 div.sk-parallel-item:last-child::after {align-self: flex-start;width: 50%;}#sk-container-id-11 div.sk-parallel-item:only-child::after {width: 0;}#sk-container-id-11 div.sk-dashed-wrapped {border: 1px dashed gray;margin: 0 0.4em 0.5em 0.4em;box-sizing: border-box;padding-bottom: 0.4em;background-color: white;}#sk-container-id-11 div.sk-label label {font-family: monospace;font-weight: bold;display: inline-block;line-height: 1.2em;}#sk-container-id-11 div.sk-label-container {text-align: center;}#sk-container-id-11 div.sk-container {/* jupyter's `normalize.less` sets `[hidden] { display: none; }` but bootstrap.min.css set `[hidden] { display: none !important; }` so we also need the `!important` here to be able to override the default hidden behavior on the sphinx rendered scikit-learn.org. See: https://github.com/scikit-learn/scikit-learn/issues/21755 */display: inline-block !important;position: relative;}#sk-container-id-11 div.sk-text-repr-fallback {display: none;}</style><div id=\"sk-container-id-11\" class=\"sk-top-container\"><div class=\"sk-text-repr-fallback\"><pre>PCA(n_components=0.99)</pre><b>In a Jupyter environment, please rerun this cell to show the HTML representation or trust the notebook. <br />On GitHub, the HTML representation is unable to render, please try loading this page with nbviewer.org.</b></div><div class=\"sk-container\" hidden><div class=\"sk-item\"><div class=\"sk-estimator sk-toggleable\"><input class=\"sk-toggleable__control sk-hidden--visually\" id=\"sk-estimator-id-11\" type=\"checkbox\" checked><label for=\"sk-estimator-id-11\" class=\"sk-toggleable__label sk-toggleable__label-arrow\">PCA</label><div class=\"sk-toggleable__content\"><pre>PCA(n_components=0.99)</pre></div></div></div></div></div>"
      ],
      "text/plain": [
       "PCA(n_components=0.99)"
      ]
     },
     "execution_count": 299,
     "metadata": {},
     "output_type": "execute_result"
    }
   ],
   "source": [
    "pca = PCA(n_components=0.99)\n",
    "pca.fit(X_train)\n"
   ]
  },
  {
   "cell_type": "code",
   "execution_count": 300,
   "metadata": {},
   "outputs": [],
   "source": [
    "X_transformed_train = pca.transform(X_train)"
   ]
  },
  {
   "cell_type": "code",
   "execution_count": 301,
   "metadata": {},
   "outputs": [],
   "source": [
    "import statsmodels.api as sm\n",
    "\n",
    "projected_ols = []\n",
    "\n",
    "# Using the previous day (aka row) to predict the next day (aka row). So for X_transformed_train[i] we want to predict X_transformed_train[i+1]\n",
    "for training_data in X_transformed_train.T:\n",
    "    X_tmp = training_data[:-1]\n",
    "    Y_tmp = training_data[1:]\n",
    "\n",
    "    X_tmp = sm.add_constant(X_tmp)\n",
    "\n",
    "    ols = sm.OLS(Y_tmp, X_tmp).fit()\n",
    "    projected_ols.append(ols)"
   ]
  },
  {
   "cell_type": "code",
   "execution_count": 302,
   "metadata": {},
   "outputs": [],
   "source": [
    "# Predict value for the transformed test data\n",
    "y_predict = []\n",
    "\n",
    "for data, ols in zip(X_transformed_train.T[-1], projected_ols):\n",
    "    data = np.array([data])\n",
    "    data = sm.add_constant(data, has_constant='add')\n",
    "    y_predict.append(ols.predict(data)[0])"
   ]
  },
  {
   "cell_type": "code",
   "execution_count": 303,
   "metadata": {},
   "outputs": [
    {
     "name": "stdout",
     "output_type": "stream",
     "text": [
      "Predicted projected values [-0.00024907944562875377, 0.00012560245490315564, -0.001029838895481126, -0.0007855145895667582, 8.818729496488637e-07]\n",
      "Actual projected values [[-0.00665408  0.02099356  0.00257823 -0.00579968  0.01130701]]\n"
     ]
    }
   ],
   "source": [
    "print(f\"Predicted projected values {y_predict}\")\n",
    "\n",
    "test_transformed = pca.transform(X_test)\n",
    "\n",
    "print(f\"Actual projected values {test_transformed}\")\n"
   ]
  },
  {
   "cell_type": "code",
   "execution_count": 304,
   "metadata": {},
   "outputs": [
    {
     "name": "stdout",
     "output_type": "stream",
     "text": [
      "Predicted test values: [-0.00135452 -0.00128604 -0.00096254 -0.00026845 -0.0014394  -0.00178573\n",
      " -0.0015167  -0.00109739]\n",
      "Actual test values:             Australian Government 2 year bond. Units: Per cent per annum; Series ID: FCMYGBAG2D  \\\n",
      "Date                                                                                              \n",
      "2021-07-29                                             -0.005                                     \n",
      "\n",
      "            Australian Government 3 year bond. Units: Per cent per annum; Series ID: FCMYGBAG3D  \\\n",
      "Date                                                                                              \n",
      "2021-07-29                                             -0.005                                     \n",
      "\n",
      "            Australian Government 5 year bond. Units: Per cent per annum; Series ID: FCMYGBAG5D  \\\n",
      "Date                                                                                              \n",
      "2021-07-29                                             -0.005                                     \n",
      "\n",
      "            Australian Government 10 year bond. Units: Per cent per annum; Series ID: FCMYGBAG10D  \\\n",
      "Date                                                                                                \n",
      "2021-07-29                                                0.0                                       \n",
      "\n",
      "            Australian Government Indexed Bond. Units: Per cent per annum; Series ID: FCMYGBAGID  \\\n",
      "Date                                                                                               \n",
      "2021-07-29                                               0.01                                      \n",
      "\n",
      "            NSW Treasury Corporation 3 year bond. Units: Per cent per annum; Series ID: FCMYGBNT3D  \\\n",
      "Date                                                                                                 \n",
      "2021-07-29                                             -0.015                                        \n",
      "\n",
      "            NSW Treasury Corporation 5 year bond. Units: Per cent per annum; Series ID: FCMYGBNT5D  \\\n",
      "Date                                                                                                 \n",
      "2021-07-29                                              -0.02                                        \n",
      "\n",
      "            NSW Treasury Corporation 10 year bond. Units: Per cent per annum; Series ID: FCMYGBNT10D  \n",
      "Date                                                                                                  \n",
      "2021-07-29                                              0.005                                         \n"
     ]
    }
   ],
   "source": [
    "print(f\"Predicted test values: {pca.inverse_transform(y_predict)}\")\n",
    "print(f\"Actual test values: {X_test}\")"
   ]
  },
  {
   "cell_type": "code",
   "execution_count": 306,
   "metadata": {},
   "outputs": [],
   "source": [
    "# Calculating sum of squared error\n",
    "predicted_projected_train = []\n",
    "\n",
    "for training_data, ols in zip(X_transformed_train.T, projected_ols):\n",
    "    training_data = sm.add_constant(training_data, has_constant='add')\n",
    "    predicted_projected_train.append(ols.predict(training_data))\n",
    "\n",
    "predicted_projected_train = np.stack(predicted_projected_train, axis=1)\n",
    "\n",
    "predicted_train = pca.inverse_transform(predicted_projected_train)\n"
   ]
  },
  {
   "cell_type": "code",
   "execution_count": 307,
   "metadata": {},
   "outputs": [
    {
     "name": "stdout",
     "output_type": "stream",
     "text": [
      "Mean squared error for each estimator: [0.0009669370045864061, 0.00123167366431117, 0.0014964504513993804, 0.002497196057089311, 0.0022510772466081005, 0.001264445355100656, 0.0013800292079722525, 0.0024364785501567883]\n"
     ]
    }
   ],
   "source": [
    "from sklearn.metrics import mean_squared_error\n",
    "\n",
    "sum_squared_error = []\n",
    "\n",
    "for (_, y_true), y_pred in zip(CMYGB_change.iloc[1:].items(), predicted_train.T):\n",
    "    sum_squared_error.append(mean_squared_error(y_true, y_pred))\n",
    "\n",
    "print(f\"Mean squared error for each estimator: {sum_squared_error}\")\n"
   ]
  },
  {
   "cell_type": "code",
   "execution_count": 308,
   "metadata": {},
   "outputs": [
    {
     "name": "stdout",
     "output_type": "stream",
     "text": [
      "                            OLS Regression Results                            \n",
      "==============================================================================\n",
      "Dep. Variable:                      y   R-squared:                       0.002\n",
      "Model:                            OLS   Adj. R-squared:                  0.002\n",
      "Method:                 Least Squares   F-statistic:                     4.662\n",
      "Date:                Fri, 23 Jun 2023   Prob (F-statistic):             0.0309\n",
      "Time:                        21:47:15   Log-Likelihood:                 1667.4\n",
      "No. Observations:                2070   AIC:                            -3331.\n",
      "Df Residuals:                    2068   BIC:                            -3320.\n",
      "Df Model:                           1                                         \n",
      "Covariance Type:            nonrobust                                         \n",
      "==============================================================================\n",
      "                 coef    std err          t      P>|t|      [0.025      0.975]\n",
      "------------------------------------------------------------------------------\n",
      "const      -4.311e-05      0.002     -0.018      0.986      -0.005       0.005\n",
      "x1            -0.0474      0.022     -2.159      0.031      -0.091      -0.004\n",
      "==============================================================================\n",
      "Omnibus:                      163.253   Durbin-Watson:                   2.004\n",
      "Prob(Omnibus):                  0.000   Jarque-Bera (JB):              809.569\n",
      "Skew:                           0.173   Prob(JB):                    1.60e-176\n",
      "Kurtosis:                       6.044   Cond. No.                         9.24\n",
      "==============================================================================\n",
      "\n",
      "Notes:\n",
      "[1] Standard Errors assume that the covariance matrix of the errors is correctly specified.\n",
      "                            OLS Regression Results                            \n",
      "==============================================================================\n",
      "Dep. Variable:                      y   R-squared:                       0.003\n",
      "Model:                            OLS   Adj. R-squared:                  0.002\n",
      "Method:                 Least Squares   F-statistic:                     5.956\n",
      "Date:                Fri, 23 Jun 2023   Prob (F-statistic):             0.0147\n",
      "Time:                        21:47:15   Log-Likelihood:                 4061.8\n",
      "No. Observations:                2070   AIC:                            -8120.\n",
      "Df Residuals:                    2068   BIC:                            -8108.\n",
      "Df Model:                           1                                         \n",
      "Covariance Type:            nonrobust                                         \n",
      "==============================================================================\n",
      "                 coef    std err          t      P>|t|      [0.025      0.975]\n",
      "------------------------------------------------------------------------------\n",
      "const       2.062e-05      0.001      0.028      0.978      -0.001       0.001\n",
      "x1             0.0536      0.022      2.441      0.015       0.011       0.097\n",
      "==============================================================================\n",
      "Omnibus:                     1219.201   Durbin-Watson:                   1.997\n",
      "Prob(Omnibus):                  0.000   Jarque-Bera (JB):           103567.337\n",
      "Skew:                           1.908   Prob(JB):                         0.00\n",
      "Kurtosis:                      37.441   Cond. No.                         29.4\n",
      "==============================================================================\n",
      "\n",
      "Notes:\n",
      "[1] Standard Errors assume that the covariance matrix of the errors is correctly specified.\n",
      "                            OLS Regression Results                            \n",
      "==============================================================================\n",
      "Dep. Variable:                      y   R-squared:                       0.025\n",
      "Model:                            OLS   Adj. R-squared:                  0.024\n",
      "Method:                 Least Squares   F-statistic:                     52.26\n",
      "Date:                Fri, 23 Jun 2023   Prob (F-statistic):           6.82e-13\n",
      "Time:                        21:47:15   Log-Likelihood:                 5163.6\n",
      "No. Observations:                2070   AIC:                        -1.032e+04\n",
      "Df Residuals:                    2068   BIC:                        -1.031e+04\n",
      "Df Model:                           1                                         \n",
      "Covariance Type:            nonrobust                                         \n",
      "==============================================================================\n",
      "                 coef    std err          t      P>|t|      [0.025      0.975]\n",
      "------------------------------------------------------------------------------\n",
      "const       1.128e-05      0.000      0.026      0.980      -0.001       0.001\n",
      "x1             0.1572      0.022      7.229      0.000       0.115       0.200\n",
      "==============================================================================\n",
      "Omnibus:                      476.485   Durbin-Watson:                   1.995\n",
      "Prob(Omnibus):                  0.000   Jarque-Bera (JB):            11206.677\n",
      "Skew:                           0.500   Prob(JB):                         0.00\n",
      "Kurtosis:                      14.355   Cond. No.                         49.5\n",
      "==============================================================================\n",
      "\n",
      "Notes:\n",
      "[1] Standard Errors assume that the covariance matrix of the errors is correctly specified.\n",
      "                            OLS Regression Results                            \n",
      "==============================================================================\n",
      "Dep. Variable:                      y   R-squared:                       0.017\n",
      "Model:                            OLS   Adj. R-squared:                  0.016\n",
      "Method:                 Least Squares   F-statistic:                     35.59\n",
      "Date:                Fri, 23 Jun 2023   Prob (F-statistic):           2.86e-09\n",
      "Time:                        21:47:15   Log-Likelihood:                 6423.2\n",
      "No. Observations:                2070   AIC:                        -1.284e+04\n",
      "Df Residuals:                    2068   BIC:                        -1.283e+04\n",
      "Df Model:                           1                                         \n",
      "Covariance Type:            nonrobust                                         \n",
      "==============================================================================\n",
      "                 coef    std err          t      P>|t|      [0.025      0.975]\n",
      "------------------------------------------------------------------------------\n",
      "const       -3.69e-07      0.000     -0.002      0.999      -0.000       0.000\n",
      "x1             0.1301      0.022      5.966      0.000       0.087       0.173\n",
      "==============================================================================\n",
      "Omnibus:                      865.402   Durbin-Watson:                   2.004\n",
      "Prob(Omnibus):                  0.000   Jarque-Bera (JB):            25716.290\n",
      "Skew:                           1.351   Prob(JB):                         0.00\n",
      "Kurtosis:                      20.055   Cond. No.                         91.2\n",
      "==============================================================================\n",
      "\n",
      "Notes:\n",
      "[1] Standard Errors assume that the covariance matrix of the errors is correctly specified.\n",
      "                            OLS Regression Results                            \n",
      "==============================================================================\n",
      "Dep. Variable:                      y   R-squared:                       0.000\n",
      "Model:                            OLS   Adj. R-squared:                 -0.000\n",
      "Method:                 Least Squares   F-statistic:                   0.09777\n",
      "Date:                Fri, 23 Jun 2023   Prob (F-statistic):              0.755\n",
      "Time:                        21:47:15   Log-Likelihood:                 6918.8\n",
      "No. Observations:                2070   AIC:                        -1.383e+04\n",
      "Df Residuals:                    2068   BIC:                        -1.382e+04\n",
      "Df Model:                           1                                         \n",
      "Covariance Type:            nonrobust                                         \n",
      "==============================================================================\n",
      "                 coef    std err          t      P>|t|      [0.025      0.975]\n",
      "------------------------------------------------------------------------------\n",
      "const      -2.108e-06      0.000     -0.011      0.991      -0.000       0.000\n",
      "x1            -0.0069      0.022     -0.313      0.755      -0.050       0.036\n",
      "==============================================================================\n",
      "Omnibus:                      472.192   Durbin-Watson:                   2.000\n",
      "Prob(Omnibus):                  0.000   Jarque-Bera (JB):            20993.902\n",
      "Skew:                          -0.124   Prob(JB):                         0.00\n",
      "Kurtosis:                      18.600   Cond. No.                         117.\n",
      "==============================================================================\n",
      "\n",
      "Notes:\n",
      "[1] Standard Errors assume that the covariance matrix of the errors is correctly specified.\n"
     ]
    }
   ],
   "source": [
    "for est in projected_ols:\n",
    "    print(est.summary())"
   ]
  }
 ],
 "metadata": {
  "kernelspec": {
   "display_name": "Python 3",
   "language": "python",
   "name": "python3"
  },
  "language_info": {
   "codemirror_mode": {
    "name": "ipython",
    "version": 3
   },
   "file_extension": ".py",
   "mimetype": "text/x-python",
   "name": "python",
   "nbconvert_exporter": "python",
   "pygments_lexer": "ipython3",
   "version": "3.11.3"
  }
 },
 "nbformat": 4,
 "nbformat_minor": 2
}
